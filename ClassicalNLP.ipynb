{
 "cells": [
  {
   "cell_type": "markdown",
   "metadata": {},
   "source": [
    "# Classical Sentiment Analysis"
   ]
  },
  {
   "cell_type": "code",
   "execution_count": 1,
   "metadata": {},
   "outputs": [],
   "source": [
    "import numpy as np\n",
    "import re\n",
    "import pandas as pd\n",
    "import torch\n",
    "import torch.nn as nn\n",
    "import torch.optim as optim\n",
    "from torch.utils.data import DataLoader, Dataset\n",
    "\n",
    "from nltk.corpus import stopwords\n",
    "from nltk.stem import WordNetLemmatizer\n",
    "\n",
    "from sklearn.model_selection import train_test_split\n",
    "\n",
    "from sklearn.pipeline import Pipeline, make_pipeline\n",
    "\n",
    "from sklearn.feature_extraction.text import TfidfVectorizer, CountVectorizer, HashingVectorizer\n",
    "\n",
    "from sklearn.ensemble import RandomForestClassifier\n",
    "from sklearn.naive_bayes import MultinomialNB\n",
    "from sklearn.linear_model import LogisticRegression\n",
    "\n",
    "\n",
    "from sklearn.metrics import accuracy_score"
   ]
  },
  {
   "cell_type": "markdown",
   "metadata": {},
   "source": [
    "## Naive Bayes"
   ]
  },
  {
   "cell_type": "markdown",
   "metadata": {},
   "source": [
    "#### Using Bag-O-Words"
   ]
  },
  {
   "cell_type": "code",
   "execution_count": 2,
   "metadata": {},
   "outputs": [
    {
     "name": "stdout",
     "output_type": "stream",
     "text": [
      "Train Accuracy: 0.9949494949494949\n",
      "Test Accuracy: 0.864406779661017\n"
     ]
    }
   ],
   "source": [
    "# Load the dataset\n",
    "train_dataset = pd.read_csv(\"dataset_dim2/train_clean_data.csv\").sample(frac=1)\n",
    "train_dataset = pd.DataFrame({\"Sentence\": train_dataset.iloc[:, 0].to_list(), \"Type\": train_dataset.iloc[:, 1].to_list()})\n",
    "test_dataset = pd.read_csv(\"dataset_dim2/test_clean_data.csv\").sample(frac=1)\n",
    "test_dataset = pd.DataFrame({\"Sentence\": test_dataset.iloc[:, 0].to_list(), \"Type\": test_dataset.iloc[:, 1].to_list()})\n",
    "\n",
    "# Tokenize the sentences\n",
    "vectorizer = CountVectorizer()\n",
    "X_train = vectorizer.fit_transform(train_dataset['Sentence'])\n",
    "y_train = train_dataset['Type']\n",
    "\n",
    "# Train the classifier\n",
    "classifier = MultinomialNB()\n",
    "classifier.fit(X_train, y_train)\n",
    "\n",
    "# Test the classifier\n",
    "X_test = vectorizer.transform(test_dataset['Sentence'])\n",
    "y_test = test_dataset['Type']\n",
    "y_pred_train = classifier.predict(X_train)\n",
    "y_pred_test = classifier.predict(X_test)\n",
    "\n",
    "# Evaluate the classifier\n",
    "accuracy_train = accuracy_score(y_train, y_pred_train)\n",
    "print(\"Train Accuracy:\", accuracy_train)\n",
    "accuracy_test = accuracy_score(y_test, y_pred_test)\n",
    "print(\"Test Accuracy:\", accuracy_test)\n"
   ]
  },
  {
   "cell_type": "markdown",
   "metadata": {},
   "source": [
    "#### Using Term Frequency-Inverse Document Frequency (Tfidf)"
   ]
  },
  {
   "cell_type": "code",
   "execution_count": 3,
   "metadata": {},
   "outputs": [
    {
     "name": "stdout",
     "output_type": "stream",
     "text": [
      "Train Accuracy: 0.98989898989899\n",
      "Test Accuracy: 0.8813559322033898\n"
     ]
    }
   ],
   "source": [
    "# Load the dataset\n",
    "train_dataset = pd.read_csv(\"dataset_dim2/train_clean_data.csv\").sample(frac=1)\n",
    "train_dataset = pd.DataFrame({\"Sentence\": train_dataset.iloc[:, 0].to_list(), \"Type\": train_dataset.iloc[:, 1].to_list()})\n",
    "test_dataset = pd.read_csv(\"dataset_dim2/test_clean_data.csv\").sample(frac=1)\n",
    "test_dataset = pd.DataFrame({\"Sentence\": test_dataset.iloc[:, 0].to_list(), \"Type\": test_dataset.iloc[:, 1].to_list()})\n",
    "\n",
    "# Tokenize the sentences\n",
    "vectorizer = TfidfVectorizer()\n",
    "X_train = vectorizer.fit_transform(train_dataset['Sentence'])\n",
    "y_train = train_dataset['Type']\n",
    "\n",
    "# Train the classifier\n",
    "classifier = MultinomialNB()\n",
    "classifier.fit(X_train, y_train)\n",
    "\n",
    "# Test the classifier\n",
    "X_test = vectorizer.transform(test_dataset['Sentence'])\n",
    "y_test = test_dataset['Type']\n",
    "y_pred_train = classifier.predict(X_train)\n",
    "y_pred_test = classifier.predict(X_test)\n",
    "\n",
    "# Evaluate the classifier\n",
    "accuracy_train = accuracy_score(y_train, y_pred_train)\n",
    "print(\"Train Accuracy:\", accuracy_train)\n",
    "accuracy_test = accuracy_score(y_test, y_pred_test)\n",
    "print(\"Test Accuracy:\", accuracy_test)"
   ]
  },
  {
   "cell_type": "markdown",
   "metadata": {},
   "source": [
    "#### Using HashingVectorizer"
   ]
  },
  {
   "cell_type": "code",
   "execution_count": 4,
   "metadata": {},
   "outputs": [
    {
     "name": "stdout",
     "output_type": "stream",
     "text": [
      "Train Accuracy: 0.953125\n",
      "Test Accuracy: 0.7076923076923077\n"
     ]
    }
   ],
   "source": [
    "\n",
    "\n",
    "# Load the dataset\n",
    "train_dataset = pd.read_csv(\"dataset_dim2/train_clean_data.csv\").sample(frac=1)\n",
    "test_dataset = pd.read_csv(\"dataset_dim2/test_clean_data.csv\").sample(frac=1)\n",
    "# Sample dataset\n",
    "texts = train_dataset.iloc[:, 0].to_list() + test_dataset.iloc[:, 0].to_list()\n",
    "labels = train_dataset.iloc[:, 1].to_list() + test_dataset.iloc[:, 1].to_list()\n",
    "\n",
    "# Split the dataset into training and test sets\n",
    "docs_train, docs_test, y_train, y_test = train_test_split(\n",
    "    texts, labels, test_size=0.25, random_state=None)\n",
    "\n",
    "# Vectorize the text data using HashingVectorizer\n",
    "vectorizer = HashingVectorizer(n_features=2**20, alternate_sign=False)\n",
    "X_train = vectorizer.transform(docs_train)\n",
    "X_test = vectorizer.transform(docs_test)\n",
    "\n",
    "# Train a Naive Bayes classifier\n",
    "nb = MultinomialNB()\n",
    "nb.fit(X_train, y_train)\n",
    "\n",
    "# Predict the test set results\n",
    "y_pred_train = nb.predict(X_train)\n",
    "y_pred_test = nb.predict(X_test)\n",
    "\n",
    "# Step 6: Evaluate the model\n",
    "print(\"Train Accuracy:\",accuracy_score(y_train, y_pred_train))\n",
    "print(\"Test Accuracy:\",accuracy_score(y_test, y_pred_test))"
   ]
  },
  {
   "cell_type": "markdown",
   "metadata": {},
   "source": [
    "## Logistic Regression "
   ]
  },
  {
   "cell_type": "markdown",
   "metadata": {},
   "source": [
    "#### Using Bag-O-Word"
   ]
  },
  {
   "cell_type": "code",
   "execution_count": 5,
   "metadata": {},
   "outputs": [
    {
     "name": "stdout",
     "output_type": "stream",
     "text": [
      "Train Accuracy: 1.0\n",
      "Test Accuracy: 0.676923076923077\n"
     ]
    }
   ],
   "source": [
    "\n",
    "\n",
    "train_dataset = pd.read_csv(\"dataset_dim2/train_clean_data.csv\").sample(frac=1)\n",
    "test_dataset = pd.read_csv(\"dataset_dim2/test_clean_data.csv\").sample(frac=1)\n",
    "# Sample dataset\n",
    "texts = train_dataset.iloc[:, 0].to_list() + test_dataset.iloc[:, 0].to_list()\n",
    "labels = train_dataset.iloc[:, 1].to_list() + test_dataset.iloc[:, 1].to_list()\n",
    "\n",
    "# Split dataset into training and testing set\n",
    "X_train, X_test, y_train, y_test = train_test_split(texts, labels, test_size=0.25, random_state=42)\n",
    "\n",
    "# Create a TF-IDF vectorizer and logistic regression classifier pipeline\n",
    "pipeline = make_pipeline(CountVectorizer(), LogisticRegression())\n",
    "\n",
    "# Train the classifier\n",
    "pipeline.fit(X_train, y_train)\n",
    "\n",
    "# Predict the sentiment of the testing set\n",
    "pred_train = pipeline.predict(X_train)\n",
    "pred_test = pipeline.predict(X_test)\n",
    "\n",
    "# Evaluate the classifier\n",
    "print(\"Train Accuracy:\",accuracy_score(y_train, pred_train))\n",
    "print(\"Test Accuracy:\",accuracy_score(y_test, pred_test))"
   ]
  },
  {
   "cell_type": "markdown",
   "metadata": {},
   "source": [
    "#### Using Tfidf"
   ]
  },
  {
   "cell_type": "code",
   "execution_count": 6,
   "metadata": {},
   "outputs": [
    {
     "name": "stdout",
     "output_type": "stream",
     "text": [
      "Train Accuracy: 0.9895833333333334\n",
      "Test Accuracy: 0.6615384615384615\n"
     ]
    }
   ],
   "source": [
    "\n",
    "\n",
    "train_dataset = pd.read_csv(\"dataset_dim2/train_clean_data.csv\").sample(frac=1)\n",
    "test_dataset = pd.read_csv(\"dataset_dim2/test_clean_data.csv\").sample(frac=1)\n",
    "# Sample dataset\n",
    "texts = train_dataset.iloc[:, 0].to_list() + test_dataset.iloc[:, 0].to_list()\n",
    "labels = train_dataset.iloc[:, 1].to_list() + test_dataset.iloc[:, 1].to_list()\n",
    "\n",
    "# Split dataset into training and testing set\n",
    "X_train, X_test, y_train, y_test = train_test_split(texts, labels, test_size=0.25, random_state=42)\n",
    "\n",
    "# Create a TF-IDF vectorizer and logistic regression classifier pipeline\n",
    "pipeline = make_pipeline(TfidfVectorizer(), LogisticRegression())\n",
    "\n",
    "# Train the classifier\n",
    "pipeline.fit(X_train, y_train)\n",
    "\n",
    "# Predict the sentiment of the testing set\n",
    "pred_train = pipeline.predict(X_train)\n",
    "pred_test = pipeline.predict(X_test)\n",
    "\n",
    "# Evaluate the classifier\n",
    "print(\"Train Accuracy:\",accuracy_score(y_train, pred_train))\n",
    "print(\"Test Accuracy:\",accuracy_score(y_test, pred_test))"
   ]
  },
  {
   "cell_type": "markdown",
   "metadata": {},
   "source": [
    "## Random Forest"
   ]
  },
  {
   "cell_type": "markdown",
   "metadata": {},
   "source": [
    "#### Using Bag-O-Words"
   ]
  },
  {
   "cell_type": "code",
   "execution_count": 7,
   "metadata": {},
   "outputs": [
    {
     "name": "stdout",
     "output_type": "stream",
     "text": [
      "Train Accuracy: 1.0\n",
      "Test Accuracy: 0.6923076923076923\n"
     ]
    }
   ],
   "source": [
    "\n",
    "train_dataset = pd.read_csv(\"dataset_dim2/train_clean_data.csv\").sample(frac=1)\n",
    "test_dataset = pd.read_csv(\"dataset_dim2/test_clean_data.csv\").sample(frac=1)\n",
    "texts = train_dataset.iloc[:, 0].to_list() + test_dataset.iloc[:, 0].to_list()\n",
    "labels = train_dataset.iloc[:, 1].to_list() + test_dataset.iloc[:, 1].to_list()\n",
    "\n",
    "# Split dataset into training and testing set\n",
    "X_train, X_test, y_train, y_test = train_test_split(texts, labels, test_size=0.25, random_state=42)\n",
    "\n",
    "# Create a pipeline with TF-IDF vectorizer and RandomForest classifier\n",
    "pipeline = Pipeline([\n",
    "    ('tfidf', CountVectorizer()),\n",
    "    ('clf', RandomForestClassifier(n_estimators=100, random_state=42))\n",
    "])\n",
    "\n",
    "# Train the classifier\n",
    "pipeline.fit(X_train, y_train)\n",
    "\n",
    "# Predict the sentiment of the testing set\n",
    "pred_train = pipeline.predict(X_train)\n",
    "pred_test = pipeline.predict(X_test)\n",
    "\n",
    "# Evaluate the classifier\n",
    "print(\"Train Accuracy:\",accuracy_score(y_train, pred_train))\n",
    "print(\"Test Accuracy:\",accuracy_score(y_test, pred_test))"
   ]
  },
  {
   "cell_type": "markdown",
   "metadata": {},
   "source": [
    "#### Using Tfidf"
   ]
  },
  {
   "cell_type": "code",
   "execution_count": 8,
   "metadata": {},
   "outputs": [
    {
     "name": "stdout",
     "output_type": "stream",
     "text": [
      "Train Accuracy: 1.0\n",
      "Test Accuracy: 0.676923076923077\n"
     ]
    }
   ],
   "source": [
    "\n",
    "\n",
    "train_dataset = pd.read_csv(\"dataset_dim2/train_clean_data.csv\").sample(frac=1)\n",
    "test_dataset = pd.read_csv(\"dataset_dim2/test_clean_data.csv\").sample(frac=1)\n",
    "texts = train_dataset.iloc[:, 0].to_list() + test_dataset.iloc[:, 0].to_list()\n",
    "labels = train_dataset.iloc[:, 1].to_list() + test_dataset.iloc[:, 1].to_list()\n",
    "\n",
    "# Split dataset into training and testing set\n",
    "X_train, X_test, y_train, y_test = train_test_split(texts, labels, test_size=0.25, random_state=42)\n",
    "\n",
    "# Create a pipeline with TF-IDF vectorizer and RandomForest classifier\n",
    "pipeline = Pipeline([\n",
    "    ('tfidf', TfidfVectorizer(ngram_range=(1, 2))),\n",
    "    ('clf', RandomForestClassifier(n_estimators=100, random_state=42))\n",
    "])\n",
    "\n",
    "# Train the classifier\n",
    "pipeline.fit(X_train, y_train)\n",
    "\n",
    "# Predict the sentiment of the testing set\n",
    "pred_train = pipeline.predict(X_train)\n",
    "pred_test = pipeline.predict(X_test)\n",
    "\n",
    "# Evaluate the classifier\n",
    "print(\"Train Accuracy:\",accuracy_score(y_train, pred_train))\n",
    "print(\"Test Accuracy:\",accuracy_score(y_test, pred_test))"
   ]
  }
 ],
 "metadata": {
  "kernelspec": {
   "display_name": "Python 3",
   "language": "python",
   "name": "python3"
  },
  "language_info": {
   "codemirror_mode": {
    "name": "ipython",
    "version": 3
   },
   "file_extension": ".py",
   "mimetype": "text/x-python",
   "name": "python",
   "nbconvert_exporter": "python",
   "pygments_lexer": "ipython3",
   "version": "3.11.3"
  }
 },
 "nbformat": 4,
 "nbformat_minor": 2
}
