{
 "cells": [
  {
   "cell_type": "markdown",
   "metadata": {},
   "source": [
    "# Sentiment Analysis with QNLP - More advanced classification"
   ]
  },
  {
   "cell_type": "markdown",
   "metadata": {},
   "source": [
    "In this project will will code a binary sentiment analysis with more predictive value compared to the previous binary classification. We will try to predict for a sentcne, whether it is *Positive*, *Negative*, *Neutral* or a *Mix* ."
   ]
  },
  {
   "cell_type": "code",
   "execution_count": 1,
   "metadata": {},
   "outputs": [],
   "source": [
    "from lambeq import BobcatParser, SpacyTokeniser\n",
    "import torch, numpy, pandas as pd, re"
   ]
  },
  {
   "cell_type": "code",
   "execution_count": 2,
   "metadata": {},
   "outputs": [],
   "source": [
    "# Number of classes\n",
    "n_classes = 4"
   ]
  },
  {
   "cell_type": "code",
   "execution_count": 3,
   "metadata": {},
   "outputs": [],
   "source": [
    "# Function for the converting of labels into a list\n",
    "def create_list(num,maxi):\n",
    "    lst = [0] * maxi\n",
    "    lst[num] = 1\n",
    "    return lst"
   ]
  },
  {
   "cell_type": "markdown",
   "metadata": {},
   "source": [
    "Let us read the files with the sentences, clean them and put the sentences into a new files."
   ]
  },
  {
   "cell_type": "code",
   "execution_count": 4,
   "metadata": {},
   "outputs": [],
   "source": [
    "def clean_text(text):\n",
    "    \"\"\"\n",
    "    Cleaning a document with:\n",
    "        - Lowercase        \n",
    "        - Removing numbers with regular expressions\n",
    "        - Removing punctuation with regular expressions\n",
    "        - Removing other artifacts\n",
    "    And separate the document into words by simply splitting at spaces\n",
    "    Params:\n",
    "        text (string): a sentence or a document\n",
    "    Returns:\n",
    "        tokens (list of strings): the list of tokens (word units) forming the document\n",
    "    \"\"\"        \n",
    "    # Lowercase\n",
    "    text = text.lower()\n",
    "    # Remove numbers\n",
    "    text = re.sub(r\"[0-9]+\", \"\", text)\n",
    "    # Remove punctuation\n",
    "    REMOVE_PUNCT = re.compile(\"[.;:!\\'?,\\\"()\\[\\]]\")\n",
    "    text = REMOVE_PUNCT.sub(\"\", text)\n",
    "    # Remove small words (1 and 2 characters)\n",
    "    text = re.sub(r\"\\b\\w{1}\\b\", \"\", text)\n",
    "    # Remove HTML artifacts specific to the corpus we're going to work with\n",
    "    REPLACE_HTML = re.compile(\"(<br\\s*/><br\\s*/>)|(\\-)|(\\/)\")\n",
    "    text = REPLACE_HTML.sub(\" \", text)\n",
    "\n",
    "    text =  ' '.join(text.split())\n",
    "    #print(text)\n",
    "    return text"
   ]
  },
  {
   "cell_type": "code",
   "execution_count": 5,
   "metadata": {},
   "outputs": [],
   "source": [
    "def process_csv_lines(input_file_path, output_file_path):\n",
    "    \"\"\"\n",
    "    Reads a CSV file, processes each line to remove all commas except the last one,\n",
    "    and writes the processed lines to a new file.\n",
    "    \"\"\"\n",
    "    with open(input_file_path, 'r', encoding='utf-8') as input_file, open(output_file_path, 'w', encoding='utf-8') as output_file:\n",
    "        for line in input_file:\n",
    "            if ',' in line:\n",
    "                parts = line.rsplit(',', 1)  # Split from the right at the last comma\n",
    "                new_line = parts[0].replace(',', '') # Remove all commas from the first part\n",
    "            else:\n",
    "                new_line = line  # If no comma is present, leave the line unchanged\n",
    "            \n",
    "            output_file.write(clean_text(new_line)+ ',' + parts[1])\n",
    "\n"
   ]
  },
  {
   "cell_type": "code",
   "execution_count": 6,
   "metadata": {},
   "outputs": [],
   "source": [
    "# Process Train dataset \n",
    "input_file = \"dataset_dim4/train_dataset.csv\"\n",
    "output_file = \"dataset_dim4/train_clean_data.csv\"\n",
    "process_csv_lines(input_file,output_file)"
   ]
  },
  {
   "cell_type": "code",
   "execution_count": 7,
   "metadata": {},
   "outputs": [],
   "source": [
    "# Process Test dataset\n",
    "input_file = \"dataset_dim4/test_dataset.csv\"\n",
    "output_file = \"dataset_dim4/test_clean_data.csv\"\n",
    "process_csv_lines(input_file,output_file)"
   ]
  },
  {
   "cell_type": "code",
   "execution_count": 8,
   "metadata": {},
   "outputs": [],
   "source": [
    "# Extract the cleaned sentences and shuffle them\n",
    "column_names = [\"text\", \"label\"]\n",
    "train_dataset = pd.read_csv(\"dataset_dim4/train_clean_data.csv\", names=column_names).sample(frac = 1, )\n",
    "test_dataset = pd.read_csv(\"dataset_dim4/test_clean_data.csv\", names=column_names).sample(frac = 1)"
   ]
  },
  {
   "cell_type": "markdown",
   "metadata": {},
   "source": [
    "Let us have a look at the values we are dealing with"
   ]
  },
  {
   "cell_type": "code",
   "execution_count": 9,
   "metadata": {},
   "outputs": [
    {
     "data": {
      "text/html": [
       "<div>\n",
       "<style scoped>\n",
       "    .dataframe tbody tr th:only-of-type {\n",
       "        vertical-align: middle;\n",
       "    }\n",
       "\n",
       "    .dataframe tbody tr th {\n",
       "        vertical-align: top;\n",
       "    }\n",
       "\n",
       "    .dataframe thead th {\n",
       "        text-align: right;\n",
       "    }\n",
       "</style>\n",
       "<table border=\"1\" class=\"dataframe\">\n",
       "  <thead>\n",
       "    <tr style=\"text-align: right;\">\n",
       "      <th></th>\n",
       "      <th>text</th>\n",
       "      <th>label</th>\n",
       "    </tr>\n",
       "  </thead>\n",
       "  <tbody>\n",
       "    <tr>\n",
       "      <th>123</th>\n",
       "      <td>unfortunately the meal did not live up to the ...</td>\n",
       "      <td>1</td>\n",
       "    </tr>\n",
       "    <tr>\n",
       "      <th>102</th>\n",
       "      <td>their dedication to quality is evident in ever...</td>\n",
       "      <td>0</td>\n",
       "    </tr>\n",
       "    <tr>\n",
       "      <th>87</th>\n",
       "      <td>an enlightening book though somewhat preachy i...</td>\n",
       "      <td>3</td>\n",
       "    </tr>\n",
       "    <tr>\n",
       "      <th>15</th>\n",
       "      <td>their kindness and professionalism were unmatched</td>\n",
       "      <td>0</td>\n",
       "    </tr>\n",
       "    <tr>\n",
       "      <th>130</th>\n",
       "      <td>the dessert looked enticing but its taste was ...</td>\n",
       "      <td>3</td>\n",
       "    </tr>\n",
       "    <tr>\n",
       "      <th>81</th>\n",
       "      <td>groundbreaking scientific discovery with far r...</td>\n",
       "      <td>0</td>\n",
       "    </tr>\n",
       "    <tr>\n",
       "      <th>17</th>\n",
       "      <td>this restaurant is hidden gem</td>\n",
       "      <td>0</td>\n",
       "    </tr>\n",
       "    <tr>\n",
       "      <th>120</th>\n",
       "      <td>the product did not meet my expectations in te...</td>\n",
       "      <td>1</td>\n",
       "    </tr>\n",
       "    <tr>\n",
       "      <th>85</th>\n",
       "      <td>meticulously researched article albeit with na...</td>\n",
       "      <td>2</td>\n",
       "    </tr>\n",
       "    <tr>\n",
       "      <th>55</th>\n",
       "      <td>as advertised no more no less</td>\n",
       "      <td>2</td>\n",
       "    </tr>\n",
       "  </tbody>\n",
       "</table>\n",
       "</div>"
      ],
      "text/plain": [
       "                                                  text  label\n",
       "123  unfortunately the meal did not live up to the ...      1\n",
       "102  their dedication to quality is evident in ever...      0\n",
       "87   an enlightening book though somewhat preachy i...      3\n",
       "15   their kindness and professionalism were unmatched      0\n",
       "130  the dessert looked enticing but its taste was ...      3\n",
       "81   groundbreaking scientific discovery with far r...      0\n",
       "17                       this restaurant is hidden gem      0\n",
       "120  the product did not meet my expectations in te...      1\n",
       "85   meticulously researched article albeit with na...      2\n",
       "55                       as advertised no more no less      2"
      ]
     },
     "execution_count": 9,
     "metadata": {},
     "output_type": "execute_result"
    }
   ],
   "source": [
    "train_dataset[:10]"
   ]
  },
  {
   "cell_type": "code",
   "execution_count": 10,
   "metadata": {},
   "outputs": [
    {
     "data": {
      "text/html": [
       "<div>\n",
       "<style scoped>\n",
       "    .dataframe tbody tr th:only-of-type {\n",
       "        vertical-align: middle;\n",
       "    }\n",
       "\n",
       "    .dataframe tbody tr th {\n",
       "        vertical-align: top;\n",
       "    }\n",
       "\n",
       "    .dataframe thead th {\n",
       "        text-align: right;\n",
       "    }\n",
       "</style>\n",
       "<table border=\"1\" class=\"dataframe\">\n",
       "  <thead>\n",
       "    <tr style=\"text-align: right;\">\n",
       "      <th></th>\n",
       "      <th>text</th>\n",
       "      <th>label</th>\n",
       "    </tr>\n",
       "  </thead>\n",
       "  <tbody>\n",
       "    <tr>\n",
       "      <th>23</th>\n",
       "      <td>the quality of the craftsmanship is evident in...</td>\n",
       "      <td>0</td>\n",
       "    </tr>\n",
       "    <tr>\n",
       "      <th>27</th>\n",
       "      <td>the conference was well organized featuring in...</td>\n",
       "      <td>0</td>\n",
       "    </tr>\n",
       "    <tr>\n",
       "      <th>39</th>\n",
       "      <td>the cars performance is unmatched but the inte...</td>\n",
       "      <td>3</td>\n",
       "    </tr>\n",
       "    <tr>\n",
       "      <th>30</th>\n",
       "      <td>the scenery was breathtaking yet the accommoda...</td>\n",
       "      <td>3</td>\n",
       "    </tr>\n",
       "    <tr>\n",
       "      <th>29</th>\n",
       "      <td>their commitment to sustainability is both gen...</td>\n",
       "      <td>0</td>\n",
       "    </tr>\n",
       "    <tr>\n",
       "      <th>34</th>\n",
       "      <td>the meal was exquisite though found the portio...</td>\n",
       "      <td>3</td>\n",
       "    </tr>\n",
       "    <tr>\n",
       "      <th>5</th>\n",
       "      <td>the package weighs approximately kilograms</td>\n",
       "      <td>2</td>\n",
       "    </tr>\n",
       "    <tr>\n",
       "      <th>1</th>\n",
       "      <td>the temperature today is expected to reach hig...</td>\n",
       "      <td>2</td>\n",
       "    </tr>\n",
       "    <tr>\n",
       "      <th>16</th>\n",
       "      <td>service charges were not mentioned upfront lea...</td>\n",
       "      <td>1</td>\n",
       "    </tr>\n",
       "    <tr>\n",
       "      <th>2</th>\n",
       "      <td>the meeting is scheduled for pm tomorrow</td>\n",
       "      <td>2</td>\n",
       "    </tr>\n",
       "  </tbody>\n",
       "</table>\n",
       "</div>"
      ],
      "text/plain": [
       "                                                 text  label\n",
       "23  the quality of the craftsmanship is evident in...      0\n",
       "27  the conference was well organized featuring in...      0\n",
       "39  the cars performance is unmatched but the inte...      3\n",
       "30  the scenery was breathtaking yet the accommoda...      3\n",
       "29  their commitment to sustainability is both gen...      0\n",
       "34  the meal was exquisite though found the portio...      3\n",
       "5          the package weighs approximately kilograms      2\n",
       "1   the temperature today is expected to reach hig...      2\n",
       "16  service charges were not mentioned upfront lea...      1\n",
       "2            the meeting is scheduled for pm tomorrow      2"
      ]
     },
     "execution_count": 10,
     "metadata": {},
     "output_type": "execute_result"
    }
   ],
   "source": [
    "test_dataset[:10]"
   ]
  },
  {
   "cell_type": "code",
   "execution_count": 11,
   "metadata": {},
   "outputs": [],
   "source": [
    "from lambeq import SpacyTokeniser\n",
    "\n",
    "tokeniser = SpacyTokeniser()\n",
    "# Tokenise the sentences\n",
    "train_data = [tokeniser.tokenise_sentence(sent) for sent in train_dataset.iloc[:, 0].to_list()]\n",
    "train_labels = [create_list(ele,n_classes) for ele in train_dataset.iloc[:, 1].to_list()]\n",
    "test_data = [tokeniser.tokenise_sentence(sent) for sent in test_dataset.iloc[:, 0].to_list()]\n",
    "test_labels = [create_list(ele,n_classes) for ele in test_dataset.iloc[:, 1].to_list()]\n",
    "\n",
    "#train_labels = [[1-x, x] for x in train_dataset.iloc[:, 1].to_list()]\n",
    "#test_labels = [[1-x, x] for x in test_dataset.iloc[:, 1].to_list()]"
   ]
  },
  {
   "cell_type": "markdown",
   "metadata": {},
   "source": [
    "## Text -> Diagram"
   ]
  },
  {
   "cell_type": "markdown",
   "metadata": {},
   "source": [
    "In this section we look at how to go from text to diagram"
   ]
  },
  {
   "cell_type": "code",
   "execution_count": 12,
   "metadata": {},
   "outputs": [
    {
     "data": {
      "application/vnd.jupyter.widget-view+json": {
       "model_id": "bb6d21b9d2284908a51eca776ec6ff53",
       "version_major": 2,
       "version_minor": 0
      },
      "text/plain": [
       "Tagging sentences:   0%|          | 0/35 [00:00<?, ?it/s]"
      ]
     },
     "metadata": {},
     "output_type": "display_data"
    },
    {
     "data": {
      "application/vnd.jupyter.widget-view+json": {
       "model_id": "6d78eaf34d40410db18c195e545e0819",
       "version_major": 2,
       "version_minor": 0
      },
      "text/plain": [
       "Parsing tagged sentences:   0%|          | 0/140 [00:00<?, ?it/s]"
      ]
     },
     "metadata": {},
     "output_type": "display_data"
    },
    {
     "data": {
      "application/vnd.jupyter.widget-view+json": {
       "model_id": "3b60b82c4b314b11b24d4c8a5e827f98",
       "version_major": 2,
       "version_minor": 0
      },
      "text/plain": [
       "Parse trees to diagrams:   0%|          | 0/140 [00:00<?, ?it/s]"
      ]
     },
     "metadata": {},
     "output_type": "display_data"
    },
    {
     "data": {
      "application/vnd.jupyter.widget-view+json": {
       "model_id": "2596fa922a1a4a74b8b2294b4ee80d75",
       "version_major": 2,
       "version_minor": 0
      },
      "text/plain": [
       "Tagging sentences:   0%|          | 0/10 [00:00<?, ?it/s]"
      ]
     },
     "metadata": {},
     "output_type": "display_data"
    },
    {
     "data": {
      "application/vnd.jupyter.widget-view+json": {
       "model_id": "353b8645ffa64d8481fde3bb2435b389",
       "version_major": 2,
       "version_minor": 0
      },
      "text/plain": [
       "Parsing tagged sentences:   0%|          | 0/40 [00:00<?, ?it/s]"
      ]
     },
     "metadata": {},
     "output_type": "display_data"
    },
    {
     "data": {
      "application/vnd.jupyter.widget-view+json": {
       "model_id": "b65a719580724b1c8105d2941c664d26",
       "version_major": 2,
       "version_minor": 0
      },
      "text/plain": [
       "Parse trees to diagrams:   0%|          | 0/40 [00:00<?, ?it/s]"
      ]
     },
     "metadata": {},
     "output_type": "display_data"
    }
   ],
   "source": [
    "#Convert the tokenised sentences into diagrams\n",
    "parser = BobcatParser(root_cats=('NP', 'N'))\n",
    "train_diagrams = parser.sentences2diagrams(train_data, suppress_exceptions=True, tokenised=True)\n",
    "test_diagrams = parser.sentences2diagrams(test_data, suppress_exceptions=True, tokenised=True)"
   ]
  },
  {
   "cell_type": "code",
   "execution_count": 13,
   "metadata": {},
   "outputs": [
    {
     "name": "stdout",
     "output_type": "stream",
     "text": [
      "Number of Train diagrams 140 and labels 140 match? -> True\n",
      "Number of Test diagrams 40 and labels 40 match? -> True\n"
     ]
    }
   ],
   "source": [
    "# Making sure the number of diagrams and labels match for both train and test diagrams\n",
    "print(\"Number of Train diagrams\", len(train_diagrams), \"and labels\", len(train_labels), \"match? ->\", len(train_diagrams) == len(train_labels))\n",
    "print(\"Number of Test diagrams\", len(test_diagrams), \"and labels\", len(test_labels), \"match? ->\", len(test_diagrams) == len(test_labels))"
   ]
  },
  {
   "cell_type": "code",
   "execution_count": 14,
   "metadata": {},
   "outputs": [],
   "source": [
    "# Normalise the train and test diagrams \n",
    "train_diagrams_filter = []\n",
    "\n",
    "for index,diagram in enumerate(train_diagrams):\n",
    "    if diagram is not None:\n",
    "        train_diagrams_filter.append(diagram.normal_form())\n",
    "    else:\n",
    "        train_labels[index] = None\n",
    "        \n",
    "test_diagrams_filter = []\n",
    "\n",
    "for index,diagram in enumerate(test_diagrams):\n",
    "    if diagram is not None:\n",
    "        test_diagrams_filter.append(diagram.normal_form())\n",
    "    else:\n",
    "        test_labels[index] = None"
   ]
  },
  {
   "cell_type": "code",
   "execution_count": 15,
   "metadata": {},
   "outputs": [],
   "source": [
    "# Remove elements of the labels from the texts that coudn't be converted to diagrams\n",
    "def remove_none(ll):\n",
    "    return [x for x in ll if x is not None]\n",
    "\n",
    "train_labels = remove_none(train_labels)\n",
    "test_labels = remove_none(test_labels)"
   ]
  },
  {
   "cell_type": "code",
   "execution_count": 16,
   "metadata": {},
   "outputs": [
    {
     "name": "stdout",
     "output_type": "stream",
     "text": [
      "Number of Train diagrams 122 and labels 122 match? -> True\n",
      "Number of Test diagrams 33 and labels 33 match? -> True\n"
     ]
    }
   ],
   "source": [
    "# Make sure the number of diagrams and labels still match for both train and test diagrams\n",
    "print(\"Number of Train diagrams\", len(train_diagrams_filter), \"and labels\", len(train_labels), \"match? ->\", len(train_diagrams_filter) == len(train_labels))\n",
    "print(\"Number of Test diagrams\", len(test_diagrams_filter), \"and labels\", len(test_labels), \"match? ->\", len(test_diagrams_filter) == len(test_labels))"
   ]
  },
  {
   "cell_type": "markdown",
   "metadata": {},
   "source": [
    "View the diagram of a sentence to make sure taht everything is working fine"
   ]
  },
  {
   "cell_type": "code",
   "execution_count": 17,
   "metadata": {},
   "outputs": [
    {
     "data": {
      "image/png": "[encoded data removed]",
      "text/plain": [
       "<Figure size 900x500 with 1 Axes>"
      ]
     },
     "metadata": {},
     "output_type": "display_data"
    }
   ],
   "source": [
    "train_diagrams_filter[11].normal_form().draw(figsize=(9, 5), fontsize=12)"
   ]
  },
  {
   "cell_type": "markdown",
   "metadata": {},
   "source": [
    "## Diagram 2 Circuit"
   ]
  },
  {
   "cell_type": "code",
   "execution_count": 18,
   "metadata": {},
   "outputs": [],
   "source": [
    "from lambeq import AtomicType, IQPAnsatz, SpiderAnsatz\n",
    "from lambeq.backend.tensor import Dim\n",
    "\n",
    "# Define types for the ansatz\n",
    "noun = AtomicType.NOUN\n",
    "sentence_type = AtomicType.SENTENCE\n",
    "prep = AtomicType.PREPOSITIONAL_PHRASE\n",
    "\n",
    "# Create an ansatz (SpiderAnsatz and we increase the number of qubits at the exists to allow more classes)\n",
    "ansatz = SpiderAnsatz({prep:Dim(4), noun: Dim(4), sentence_type: Dim(4)})\n",
    "\n",
    "train_circuits = []\n",
    "test_circuits =  []\n",
    "\n",
    "# Create the circuits for the train and test diagrams, and catch any exceptions that might occur,\n",
    "# Print out the sentences that fail\n",
    "for index, diag in enumerate(train_diagrams_filter):\n",
    "    try:\n",
    "        train_circuits.append(ansatz(diag))\n",
    "    except Exception as e:\n",
    "        print(\"Problem with Train diagram\",index, \"-> sentence is:\", train_dataset.iloc[index,0])\n",
    "        train_labels[index] = None\n",
    "        print(e)\n",
    "\n",
    "for index,diag in enumerate(test_diagrams_filter):\n",
    "    try:\n",
    "        test_circuits.append(ansatz(diag))\n",
    "    except Exception as e:\n",
    "        print(\"Problem with Test diagram\",index, \"-> sentence is:\", test_dataset.iloc[index,0])\n",
    "        test_labels[index] = None\n",
    "        #print(e)\n"
   ]
  },
  {
   "cell_type": "code",
   "execution_count": 19,
   "metadata": {},
   "outputs": [
    {
     "data": {
      "image/png": "[encoded data removed]",
      "text/plain": [
       "<Figure size 900x300 with 1 Axes>"
      ]
     },
     "metadata": {},
     "output_type": "display_data"
    }
   ],
   "source": [
    "# Let us visualise how the spider circuits look like\n",
    "train_circuits[0].draw(figsize=(9, 3))"
   ]
  },
  {
   "cell_type": "code",
   "execution_count": 20,
   "metadata": {},
   "outputs": [],
   "source": [
    "# Remove the necessary labels in case of circuit conversion fail\n",
    "train_labels = remove_none(train_labels)\n",
    "test_labels = remove_none(test_labels)"
   ]
  },
  {
   "cell_type": "code",
   "execution_count": 21,
   "metadata": {},
   "outputs": [
    {
     "name": "stdout",
     "output_type": "stream",
     "text": [
      "Number of Train circuits 122 and labels 122 match? -> True\n",
      "Number of Test circuits 33 and labels 33 match? -> True\n"
     ]
    }
   ],
   "source": [
    "print(\"Number of Train circuits\", len(train_circuits), \"and labels\", len(train_labels), \"match? ->\", len(train_circuits) == len(train_labels))\n",
    "print(\"Number of Test circuits\", len(test_circuits), \"and labels\", len(test_labels), \"match? ->\", len(test_circuits) == len(test_labels))"
   ]
  },
  {
   "cell_type": "markdown",
   "metadata": {},
   "source": [
    "## Training"
   ]
  },
  {
   "cell_type": "markdown",
   "metadata": {},
   "source": [
    "In this section we will train a model that will predict given a circuit, its 4 possible sentiment"
   ]
  },
  {
   "cell_type": "code",
   "execution_count": 22,
   "metadata": {},
   "outputs": [],
   "source": [
    "# Define the accuracy function that will be used for the training\n",
    "import numpy as np\n",
    "\n",
    "acc = lambda y_hat, y: np.sum(np.round(y_hat.detach().numpy()) == y) / len(y)/2\n",
    "\n",
    "eval_metrics = {\"acc\": acc}"
   ]
  },
  {
   "cell_type": "code",
   "execution_count": 23,
   "metadata": {},
   "outputs": [],
   "source": [
    "# Variable definition\n",
    "BATCH_SIZE = 30\n",
    "EPOCHS = 30\n",
    "LEARNING_RATE = 0.03"
   ]
  },
  {
   "cell_type": "code",
   "execution_count": 24,
   "metadata": {},
   "outputs": [],
   "source": [
    "# Create the model\n",
    "from lambeq import PytorchModel\n",
    "\n",
    "all_circuits = train_circuits + test_circuits\n",
    "model = PytorchModel.from_diagrams(all_circuits)"
   ]
  },
  {
   "cell_type": "code",
   "execution_count": 25,
   "metadata": {},
   "outputs": [],
   "source": [
    "# Create the trainer that will learn\n",
    "from lambeq import PytorchTrainer, SPSAOptimizer\n",
    "from lambeq import BinaryCrossEntropyLoss\n",
    "\n",
    "bce = BinaryCrossEntropyLoss()\n",
    "\n",
    "trainer = PytorchTrainer(\n",
    "        model=model,\n",
    "        loss_function=torch.nn.BCEWithLogitsLoss(),\n",
    "        optimizer=torch.optim.AdamW,\n",
    "        epochs=EPOCHS,\n",
    "        learning_rate=LEARNING_RATE,\n",
    "        evaluate_functions=eval_metrics,\n",
    "        evaluate_on_train=True,\n",
    "        verbose='text')"
   ]
  },
  {
   "cell_type": "code",
   "execution_count": 26,
   "metadata": {},
   "outputs": [],
   "source": [
    "# Collect the circuit data for convenience\n",
    "from lambeq import Dataset\n",
    "\n",
    "new_train_dataset = Dataset(train_circuits, train_labels, batch_size=BATCH_SIZE)\n",
    "\n",
    "new_test_dataset = Dataset(test_circuits, test_labels, shuffle=False)"
   ]
  },
  {
   "cell_type": "code",
   "execution_count": 27,
   "metadata": {},
   "outputs": [
    {
     "name": "stderr",
     "output_type": "stream",
     "text": [
      "Epoch 5:   train/loss: 0.5292   valid/loss: 0.7325   train/acc: 0.0000   valid/acc: 0.0000\n",
      "Epoch 10:  train/loss: 0.4169   valid/loss: 1.3433   train/acc: 0.0000   valid/acc: 0.0000\n",
      "Epoch 15:  train/loss: 0.0004   valid/loss: 2.0702   train/acc: 0.0000   valid/acc: 0.0000\n",
      "Epoch 20:  train/loss: 0.0000   valid/loss: 2.1509   train/acc: 0.0000   valid/acc: 0.0000\n",
      "Epoch 25:  train/loss: 0.0000   valid/loss: 2.2179   train/acc: 0.0000   valid/acc: 0.0000\n",
      "Epoch 30:  train/loss: 0.0000   valid/loss: 1.9259   train/acc: 0.0000   valid/acc: 0.0000\n",
      "\n",
      "Training completed!\n"
     ]
    }
   ],
   "source": [
    "# Fit the data to learn and predict given the test circuits\n",
    "trainer.fit(new_train_dataset, new_test_dataset, eval_interval=1, log_interval=5)"
   ]
  },
  {
   "cell_type": "code",
   "execution_count": 28,
   "metadata": {},
   "outputs": [
    {
     "name": "stdout",
     "output_type": "stream",
     "text": [
      "0.7727272727272727\n"
     ]
    }
   ],
   "source": [
    "# Print out the accuracy of the prediction for the test dataset \n",
    "print(acc(model(test_circuits), test_labels))"
   ]
  },
  {
   "cell_type": "markdown",
   "metadata": {},
   "source": [
    "Let us now visualise the training with accuracy and loss"
   ]
  },
  {
   "cell_type": "code",
   "execution_count": 29,
   "metadata": {},
   "outputs": [
    {
     "name": "stdout",
     "output_type": "stream",
     "text": [
      "Test accuracy: 0.0\n"
     ]
    },
    {
     "data": {
      "image/png": "[encoded data removed]",
      "text/plain": [
       "<Figure size 1000x600 with 4 Axes>"
      ]
     },
     "metadata": {},
     "output_type": "display_data"
    }
   ],
   "source": [
    "import matplotlib.pyplot as plt\n",
    "import numpy as np\n",
    "\n",
    "fig1, ((ax_tl, ax_tr), (ax_bl, ax_br)) = plt.subplots(2, 2, sharey='row', figsize=(10, 6))\n",
    "\n",
    "ax_tl.set_title('Training set')\n",
    "ax_tr.set_title('Development set')\n",
    "ax_bl.set_xlabel('Epochs')\n",
    "ax_br.set_xlabel('Epochs')\n",
    "ax_bl.set_ylabel('Accuracy')\n",
    "ax_tl.set_ylabel('Loss')\n",
    "\n",
    "colours = iter(plt.rcParams['axes.prop_cycle'].by_key()['color'])\n",
    "range_ = np.arange(1, trainer.epochs+1)\n",
    "ax_tl.plot(range_, trainer.train_epoch_costs, color=next(colours))\n",
    "ax_bl.plot(range_, trainer.train_eval_results['acc'], color=next(colours))\n",
    "ax_tr.plot(range_, trainer.val_costs, color=next(colours))\n",
    "ax_br.plot(range_, trainer.val_eval_results['acc'], color=next(colours))\n",
    "\n",
    "# print test accuracy\n",
    "test_acc = acc(model(test_circuits), torch.tensor(test_labels))\n",
    "print('Test accuracy:', test_acc.item())"
   ]
  },
  {
   "cell_type": "code",
   "execution_count": null,
   "metadata": {},
   "outputs": [],
   "source": []
  }
 ],
 "metadata": {
  "kernelspec": {
   "display_name": "Python 3",
   "language": "python",
   "name": "python3"
  },
  "language_info": {
   "codemirror_mode": {
    "name": "ipython",
    "version": 3
   },
   "file_extension": ".py",
   "mimetype": "text/x-python",
   "name": "python",
   "nbconvert_exporter": "python",
   "pygments_lexer": "ipython3",
   "version": "3.11.3"
  }
 },
 "nbformat": 4,
 "nbformat_minor": 2
}
