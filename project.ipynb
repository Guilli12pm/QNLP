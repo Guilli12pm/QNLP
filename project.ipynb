{
 "cells": [
  {
   "cell_type": "code",
   "execution_count": 99,
   "metadata": {},
   "outputs": [],
   "source": [
    "from lambeq import BobcatParser, SpacyTokeniser\n",
    "import torch, numpy, pandas as pd, re"
   ]
  },
  {
   "cell_type": "code",
   "execution_count": 100,
   "metadata": {},
   "outputs": [],
   "source": [
    "def clean_text(text):\n",
    "    \"\"\"\n",
    "    Cleaning a document with:\n",
    "        - Lowercase        \n",
    "        - Removing numbers with regular expressions\n",
    "        - Removing punctuation with regular expressions\n",
    "        - Removing other artifacts\n",
    "    And separate the document into words by simply splitting at spaces\n",
    "    Params:\n",
    "        text (string): a sentence or a document\n",
    "    Returns:\n",
    "        tokens (list of strings): the list of tokens (word units) forming the document\n",
    "    \"\"\"        \n",
    "    # Lowercase\n",
    "    text = text.lower()\n",
    "    # Remove numbers\n",
    "    text = re.sub(r\"[0-9]+\", \"\", text)\n",
    "    # Remove punctuation\n",
    "    REMOVE_PUNCT = re.compile(\"[.;:!\\'?,\\\"()\\[\\]]\")\n",
    "    text = REMOVE_PUNCT.sub(\"\", text)\n",
    "    # Remove small words (1 and 2 characters)\n",
    "    text = re.sub(r\"\\b\\w{1}\\b\", \"\", text)\n",
    "    # Remove HTML artifacts specific to the corpus we're going to work with\n",
    "    REPLACE_HTML = re.compile(\"(<br\\s*/><br\\s*/>)|(\\-)|(\\/)\")\n",
    "    text = REPLACE_HTML.sub(\" \", text)\n",
    "\n",
    "    text =  ' '.join(text.split())\n",
    "    #print(text)\n",
    "    return text"
   ]
  },
  {
   "cell_type": "code",
   "execution_count": 103,
   "metadata": {},
   "outputs": [],
   "source": [
    "def process_csv_lines(input_file_path, output_file_path):\n",
    "    \"\"\"\n",
    "    Reads a CSV file, processes each line to remove all commas except the last one,\n",
    "    and writes the processed lines to a new file.\n",
    "    \"\"\"\n",
    "    with open(input_file_path, 'r', encoding='utf-8') as input_file, open(output_file_path, 'w', encoding='utf-8') as output_file:\n",
    "        for line in input_file:\n",
    "            if ',' in line:\n",
    "                parts = line.rsplit(',', 1)  # Split from the right at the last comma\n",
    "                new_line = parts[0].replace(',', '') # Remove all commas from the first part\n",
    "            else:\n",
    "                new_line = line  # If no comma is present, leave the line unchanged\n",
    "            \n",
    "            output_file.write(clean_text(new_line)+ ',' + parts[1])\n",
    "\n"
   ]
  },
  {
   "cell_type": "code",
   "execution_count": 104,
   "metadata": {},
   "outputs": [],
   "source": [
    "# Process Train dataset \n",
    "input_file = \"train_dataset.csv\"\n",
    "output_file = \"train_clean_data.csv\"\n",
    "process_csv_lines(input_file,output_file)"
   ]
  },
  {
   "cell_type": "code",
   "execution_count": 105,
   "metadata": {},
   "outputs": [],
   "source": [
    "# Process Test dataset\n",
    "input_file = \"test_dataset.csv\"\n",
    "output_file = \"test_clean_data.csv\"\n",
    "process_csv_lines(input_file,output_file)"
   ]
  },
  {
   "cell_type": "code",
   "execution_count": 106,
   "metadata": {},
   "outputs": [],
   "source": [
    "train_dataset = pd.read_csv(\"train_clean_data.csv\").sample(frac = 1)\n",
    "test_dataset = pd.read_csv(\"test_clean_data.csv\").sample(frac = 1)"
   ]
  },
  {
   "cell_type": "code",
   "execution_count": 107,
   "metadata": {},
   "outputs": [
    {
     "data": {
      "text/html": [
       "<div>\n",
       "<style scoped>\n",
       "    .dataframe tbody tr th:only-of-type {\n",
       "        vertical-align: middle;\n",
       "    }\n",
       "\n",
       "    .dataframe tbody tr th {\n",
       "        vertical-align: top;\n",
       "    }\n",
       "\n",
       "    .dataframe thead th {\n",
       "        text-align: right;\n",
       "    }\n",
       "</style>\n",
       "<table border=\"1\" class=\"dataframe\">\n",
       "  <thead>\n",
       "    <tr style=\"text-align: right;\">\n",
       "      <th></th>\n",
       "      <th>absolutely love this product</th>\n",
       "      <th>0</th>\n",
       "    </tr>\n",
       "  </thead>\n",
       "  <tbody>\n",
       "    <tr>\n",
       "      <th>67</th>\n",
       "      <td>the interface is intuitive but lacks key features</td>\n",
       "      <td>3</td>\n",
       "    </tr>\n",
       "    <tr>\n",
       "      <th>87</th>\n",
       "      <td>the games multiplayer mode is exhilarating but...</td>\n",
       "      <td>3</td>\n",
       "    </tr>\n",
       "    <tr>\n",
       "      <th>13</th>\n",
       "      <td>perfect day</td>\n",
       "      <td>0</td>\n",
       "    </tr>\n",
       "    <tr>\n",
       "      <th>58</th>\n",
       "      <td>decent choice but there are better options out...</td>\n",
       "      <td>2</td>\n",
       "    </tr>\n",
       "    <tr>\n",
       "      <th>119</th>\n",
       "      <td>the product did not meet my expectations in te...</td>\n",
       "      <td>1</td>\n",
       "    </tr>\n",
       "    <tr>\n",
       "      <th>72</th>\n",
       "      <td>good attempt but needs more polish</td>\n",
       "      <td>3</td>\n",
       "    </tr>\n",
       "    <tr>\n",
       "      <th>136</th>\n",
       "      <td>fast delivery but the package arrived damaged</td>\n",
       "      <td>3</td>\n",
       "    </tr>\n",
       "    <tr>\n",
       "      <th>27</th>\n",
       "      <td>customer service was rude and unhelpful</td>\n",
       "      <td>1</td>\n",
       "    </tr>\n",
       "    <tr>\n",
       "      <th>109</th>\n",
       "      <td>the train departs every hour on the half hour</td>\n",
       "      <td>2</td>\n",
       "    </tr>\n",
       "    <tr>\n",
       "      <th>56</th>\n",
       "      <td>middle of the road in every aspect</td>\n",
       "      <td>2</td>\n",
       "    </tr>\n",
       "  </tbody>\n",
       "</table>\n",
       "</div>"
      ],
      "text/plain": [
       "                          absolutely love this product  0\n",
       "67   the interface is intuitive but lacks key features  3\n",
       "87   the games multiplayer mode is exhilarating but...  3\n",
       "13                                         perfect day  0\n",
       "58   decent choice but there are better options out...  2\n",
       "119  the product did not meet my expectations in te...  1\n",
       "72                  good attempt but needs more polish  3\n",
       "136      fast delivery but the package arrived damaged  3\n",
       "27             customer service was rude and unhelpful  1\n",
       "109      the train departs every hour on the half hour  2\n",
       "56                  middle of the road in every aspect  2"
      ]
     },
     "execution_count": 107,
     "metadata": {},
     "output_type": "execute_result"
    }
   ],
   "source": [
    "train_dataset[:10]"
   ]
  },
  {
   "cell_type": "code",
   "execution_count": 108,
   "metadata": {},
   "outputs": [
    {
     "data": {
      "text/html": [
       "<div>\n",
       "<style scoped>\n",
       "    .dataframe tbody tr th:only-of-type {\n",
       "        vertical-align: middle;\n",
       "    }\n",
       "\n",
       "    .dataframe tbody tr th {\n",
       "        vertical-align: top;\n",
       "    }\n",
       "\n",
       "    .dataframe thead th {\n",
       "        text-align: right;\n",
       "    }\n",
       "</style>\n",
       "<table border=\"1\" class=\"dataframe\">\n",
       "  <thead>\n",
       "    <tr style=\"text-align: right;\">\n",
       "      <th></th>\n",
       "      <th>the book was published in by penguin classics</th>\n",
       "      <th>2</th>\n",
       "    </tr>\n",
       "  </thead>\n",
       "  <tbody>\n",
       "    <tr>\n",
       "      <th>14</th>\n",
       "      <td>the novels pacing was sluggish making it chore...</td>\n",
       "      <td>1</td>\n",
       "    </tr>\n",
       "    <tr>\n",
       "      <th>5</th>\n",
       "      <td>please submit the report by the end of the week</td>\n",
       "      <td>2</td>\n",
       "    </tr>\n",
       "    <tr>\n",
       "      <th>31</th>\n",
       "      <td>the novels plot was compelling but the writing...</td>\n",
       "      <td>3</td>\n",
       "    </tr>\n",
       "    <tr>\n",
       "      <th>12</th>\n",
       "      <td>the software is bug ridden and crashes frequently</td>\n",
       "      <td>1</td>\n",
       "    </tr>\n",
       "    <tr>\n",
       "      <th>32</th>\n",
       "      <td>while the software is powerful its incredibly ...</td>\n",
       "      <td>3</td>\n",
       "    </tr>\n",
       "    <tr>\n",
       "      <th>23</th>\n",
       "      <td>such heartwarming story left me in tears of joy</td>\n",
       "      <td>0</td>\n",
       "    </tr>\n",
       "    <tr>\n",
       "      <th>13</th>\n",
       "      <td>despite the hype the gadget feels gimmicky and...</td>\n",
       "      <td>1</td>\n",
       "    </tr>\n",
       "    <tr>\n",
       "      <th>38</th>\n",
       "      <td>the cars performance is unmatched but the inte...</td>\n",
       "      <td>3</td>\n",
       "    </tr>\n",
       "    <tr>\n",
       "      <th>1</th>\n",
       "      <td>the meeting is scheduled for pm tomorrow</td>\n",
       "      <td>2</td>\n",
       "    </tr>\n",
       "    <tr>\n",
       "      <th>20</th>\n",
       "      <td>his performance was breathtaking capturing the...</td>\n",
       "      <td>0</td>\n",
       "    </tr>\n",
       "  </tbody>\n",
       "</table>\n",
       "</div>"
      ],
      "text/plain": [
       "        the book was published in by penguin classics  2\n",
       "14  the novels pacing was sluggish making it chore...  1\n",
       "5     please submit the report by the end of the week  2\n",
       "31  the novels plot was compelling but the writing...  3\n",
       "12  the software is bug ridden and crashes frequently  1\n",
       "32  while the software is powerful its incredibly ...  3\n",
       "23    such heartwarming story left me in tears of joy  0\n",
       "13  despite the hype the gadget feels gimmicky and...  1\n",
       "38  the cars performance is unmatched but the inte...  3\n",
       "1            the meeting is scheduled for pm tomorrow  2\n",
       "20  his performance was breathtaking capturing the...  0"
      ]
     },
     "execution_count": 108,
     "metadata": {},
     "output_type": "execute_result"
    }
   ],
   "source": [
    "test_dataset[:10]"
   ]
  },
  {
   "cell_type": "code",
   "execution_count": 109,
   "metadata": {},
   "outputs": [],
   "source": [
    "train_data = train_dataset.iloc[:, 0].to_list()\n",
    "train_labels = train_dataset.iloc[:, 1].to_list()"
   ]
  },
  {
   "cell_type": "code",
   "execution_count": 110,
   "metadata": {},
   "outputs": [],
   "source": [
    "test_data = test_dataset.iloc[:, 0].to_list()\n",
    "test_labels = test_dataset.iloc[:, 1].to_list()"
   ]
  },
  {
   "cell_type": "code",
   "execution_count": 111,
   "metadata": {},
   "outputs": [
    {
     "data": {
      "application/vnd.jupyter.widget-view+json": {
       "model_id": "efa8252566204a18aa30b94c4aca0f37",
       "version_major": 2,
       "version_minor": 0
      },
      "text/plain": [
       "Tagging sentences:   0%|          | 0/35 [00:00<?, ?it/s]"
      ]
     },
     "metadata": {},
     "output_type": "display_data"
    },
    {
     "data": {
      "application/vnd.jupyter.widget-view+json": {
       "model_id": "938b2a10874e4effb3a65f6ee8f218f1",
       "version_major": 2,
       "version_minor": 0
      },
      "text/plain": [
       "Parsing tagged sentences:   0%|          | 0/139 [00:00<?, ?it/s]"
      ]
     },
     "metadata": {},
     "output_type": "display_data"
    },
    {
     "data": {
      "application/vnd.jupyter.widget-view+json": {
       "model_id": "d066bbceb6d24e38834aaa239b9f0371",
       "version_major": 2,
       "version_minor": 0
      },
      "text/plain": [
       "Parse trees to diagrams:   0%|          | 0/139 [00:00<?, ?it/s]"
      ]
     },
     "metadata": {},
     "output_type": "display_data"
    },
    {
     "data": {
      "application/vnd.jupyter.widget-view+json": {
       "model_id": "63bed3e44a09463dac95395a488062dc",
       "version_major": 2,
       "version_minor": 0
      },
      "text/plain": [
       "Tagging sentences:   0%|          | 0/10 [00:00<?, ?it/s]"
      ]
     },
     "metadata": {},
     "output_type": "display_data"
    },
    {
     "data": {
      "application/vnd.jupyter.widget-view+json": {
       "model_id": "2431088b3c5146e1ad7ed27cff14be6a",
       "version_major": 2,
       "version_minor": 0
      },
      "text/plain": [
       "Parsing tagged sentences:   0%|          | 0/39 [00:00<?, ?it/s]"
      ]
     },
     "metadata": {},
     "output_type": "display_data"
    },
    {
     "data": {
      "application/vnd.jupyter.widget-view+json": {
       "model_id": "3963fb01e3894295b1791ebf4fc3c5a3",
       "version_major": 2,
       "version_minor": 0
      },
      "text/plain": [
       "Parse trees to diagrams:   0%|          | 0/39 [00:00<?, ?it/s]"
      ]
     },
     "metadata": {},
     "output_type": "display_data"
    }
   ],
   "source": [
    "parser = BobcatParser(root_cats=('NP', 'N'))\n",
    "train_diagrams = parser.sentences2diagrams(train_data, suppress_exceptions=True)\n",
    "test_diagrams = parser.sentences2diagrams(test_data, suppress_exceptions=True)"
   ]
  },
  {
   "cell_type": "code",
   "execution_count": 112,
   "metadata": {},
   "outputs": [
    {
     "name": "stdout",
     "output_type": "stream",
     "text": [
      "Number of Train diagrams 139 and labels 139 match? -> True\n",
      "Number of Test diagrams 39 and labels 39 match? -> True\n"
     ]
    }
   ],
   "source": [
    "print(\"Number of Train diagrams\", len(train_diagrams), \"and labels\", len(train_labels), \"match? ->\", len(train_diagrams) == len(train_labels))\n",
    "print(\"Number of Test diagrams\", len(test_diagrams), \"and labels\", len(test_labels), \"match? ->\", len(test_diagrams) == len(test_labels))"
   ]
  },
  {
   "cell_type": "code",
   "execution_count": 113,
   "metadata": {},
   "outputs": [],
   "source": [
    "train_diagrams_filter = []\n",
    "\n",
    "for index,diagram in enumerate(train_diagrams):\n",
    "    if diagram is not None:\n",
    "        train_diagrams_filter.append(diagram.normal_form())\n",
    "    else:\n",
    "        train_labels[index] = None\n",
    "        \n",
    "test_diagrams_filter = []\n",
    "\n",
    "for index,diagram in enumerate(test_diagrams):\n",
    "    if diagram is not None:\n",
    "        test_diagrams_filter.append(diagram.normal_form())\n",
    "    else:\n",
    "        test_labels[index] = None"
   ]
  },
  {
   "cell_type": "code",
   "execution_count": 114,
   "metadata": {},
   "outputs": [],
   "source": [
    "def remove_none(ll):\n",
    "    return [x for x in ll if x is not None]\n",
    "\n",
    "train_labels = remove_none(train_labels)\n",
    "test_labels = remove_none(test_labels)"
   ]
  },
  {
   "cell_type": "code",
   "execution_count": 115,
   "metadata": {},
   "outputs": [
    {
     "name": "stdout",
     "output_type": "stream",
     "text": [
      "Number of Train diagrams 121 and labels 121 match? -> True\n",
      "Number of Test diagrams 32 and labels 32 match? -> True\n"
     ]
    }
   ],
   "source": [
    "print(\"Number of Train diagrams\", len(train_diagrams_filter), \"and labels\", len(train_labels), \"match? ->\", len(train_diagrams_filter) == len(train_labels))\n",
    "print(\"Number of Test diagrams\", len(test_diagrams_filter), \"and labels\", len(test_labels), \"match? ->\", len(test_diagrams_filter) == len(test_labels))"
   ]
  },
  {
   "cell_type": "code",
   "execution_count": 116,
   "metadata": {},
   "outputs": [
    {
     "data": {
      "image/png": "[encoded data removed]",
      "text/plain": [
       "<Figure size 900x500 with 1 Axes>"
      ]
     },
     "metadata": {},
     "output_type": "display_data"
    }
   ],
   "source": [
    "train_diagrams_filter[10].normal_form().draw(figsize=(9, 5), fontsize=12)"
   ]
  },
  {
   "cell_type": "code",
   "execution_count": 139,
   "metadata": {},
   "outputs": [
    {
     "name": "stdout",
     "output_type": "stream",
     "text": [
      "Problem with Train diagram 20 -> sentence is: nothing to complain about but nothing to praise either\n",
      "Diagram 0 (cod=s.r @ s.r.r @ s.r @ n.r.r @ n.r @ n @ n.l @ n.l.l @ s.l @ n @ n.r @ s) does not compose with diagram 1 (dom=s.r @ n.r.r @ n.r.r @ n.r @ n @ n.l @ n.l.l @ s.l @ n @ n.r @ s)\n",
      "Problem with Train diagram 81 -> sentence is: affordable but you get what you pay for\n",
      "Diagram 0 (cod=n @ n.r @ n @ n.l @ n.l) does not compose with diagram 1 (dom=n @ n.r @ n.l @ n.l)\n"
     ]
    }
   ],
   "source": [
    "from lambeq import AtomicType, IQPAnsatz, SpiderAnsatz, RemoveCupsRewriter\n",
    "\n",
    "# Define types for the ansatz\n",
    "noun = AtomicType.NOUN\n",
    "sentence_type = AtomicType.SENTENCE\n",
    "prep = AtomicType.PREPOSITIONAL_PHRASE\n",
    "\n",
    "# Create an ansatz (IQPAnsatz in this example)\n",
    "ansatz = IQPAnsatz({prep:1, noun: 2, sentence_type: 1},n_layers=1,n_single_qubit_params=5)\n",
    "\n",
    "remove_cups = RemoveCupsRewriter()\n",
    "\n",
    "train_circuits = []\n",
    "test_circuits =  []\n",
    "\n",
    "for index, diag in enumerate(train_diagrams_filter):\n",
    "    try:\n",
    "        train_circuits.append(ansatz(remove_cups(diag)))\n",
    "    except Exception as e:\n",
    "        print(\"Problem with Train diagram\",index, \"-> sentence is:\", train_dataset.iloc[index,0])\n",
    "        train_labels[index] = None\n",
    "        print(e)\n",
    "\n",
    "for index,diag in enumerate(test_diagrams_filter):\n",
    "    try:\n",
    "        test_circuits.append(ansatz(remove_cups(diag)))\n",
    "    except Exception as e:\n",
    "        print(\"Problem with Test diagram\",index, \"-> sentence is:\", test_dataset.iloc[index,0])\n",
    "        test_labels[index] = None\n",
    "        #print(e)\n",
    "\n",
    "\n",
    "\n",
    "#train_circuits[0].draw(figsize=(9, 10))"
   ]
  },
  {
   "cell_type": "code",
   "execution_count": 118,
   "metadata": {},
   "outputs": [],
   "source": [
    "train_labels = remove_none(train_labels)\n",
    "test_labels = remove_none(test_labels)"
   ]
  },
  {
   "cell_type": "code",
   "execution_count": 119,
   "metadata": {},
   "outputs": [
    {
     "name": "stdout",
     "output_type": "stream",
     "text": [
      "Number of Train circuits 119 and labels 119 match? -> True\n",
      "Number of Test circuits 32 and labels 32 match? -> True\n"
     ]
    }
   ],
   "source": [
    "print(\"Number of Train circuits\", len(train_circuits), \"and labels\", len(train_labels), \"match? ->\", len(train_circuits) == len(train_labels))\n",
    "print(\"Number of Test circuits\", len(test_circuits), \"and labels\", len(test_labels), \"match? ->\", len(test_circuits) == len(test_labels))"
   ]
  },
  {
   "cell_type": "code",
   "execution_count": 120,
   "metadata": {},
   "outputs": [
    {
     "data": {
      "text/plain": [
       "'\\ntrain_diagrams_filter[7].draw(figsize=(9, 1.5))\\ntrain_diagrams_filter[43].draw()\\ntrain_diagrams_filter[51].draw()\\n'"
      ]
     },
     "execution_count": 120,
     "metadata": {},
     "output_type": "execute_result"
    }
   ],
   "source": [
    "\"\"\"\n",
    "train_diagrams_filter[7].draw(figsize=(9, 1.5))\n",
    "train_diagrams_filter[43].draw()\n",
    "train_diagrams_filter[51].draw()\n",
    "\"\"\""
   ]
  },
  {
   "cell_type": "code",
   "execution_count": 121,
   "metadata": {},
   "outputs": [
    {
     "data": {
      "image/png": "[encoded data removed]",
      "text/plain": [
       "<Figure size 900x500 with 1 Axes>"
      ]
     },
     "metadata": {},
     "output_type": "display_data"
    }
   ],
   "source": [
    "train_circuits[2].draw(figsize=(9, 5), fontsize=12)"
   ]
  },
  {
   "cell_type": "code",
   "execution_count": 66,
   "metadata": {},
   "outputs": [
    {
     "data": {
      "text/plain": [
       "'\\n# Parse a sentence into a diagram\\nparser = BobcatParser(verbose=\\'text\\')\\nsentence = \"This is a simple example.\"\\nccg_diagram = parser.sentence2diagram(sentence)\\n\\n# Define types for the ansatz\\nnoun = AtomicType.NOUN\\nsentence_type = AtomicType.SENTENCE\\n\\n# Create an ansatz (IQPAnsatz in this example)\\nansatz = IQPAnsatz({noun: 2, sentence_type: 1},n_layers=1,n_single_qubit_params=3)\\n\\n# Convert the CCG diagram into a quantum circuit\\ncircuit = ansatz(train_diagrams_filter[0])\\n\\n# Now `circuit` is a pytket circuit ready for simulation or running on a quantum computer\\ncircuit.draw()\\n'"
      ]
     },
     "execution_count": 66,
     "metadata": {},
     "output_type": "execute_result"
    }
   ],
   "source": [
    "# TESTING\n",
    "\n",
    "'''\n",
    "# Parse a sentence into a diagram\n",
    "parser = BobcatParser(verbose='text')\n",
    "sentence = \"This is a simple example.\"\n",
    "ccg_diagram = parser.sentence2diagram(sentence)\n",
    "\n",
    "# Define types for the ansatz\n",
    "noun = AtomicType.NOUN\n",
    "sentence_type = AtomicType.SENTENCE\n",
    "\n",
    "# Create an ansatz (IQPAnsatz in this example)\n",
    "ansatz = IQPAnsatz({noun: 2, sentence_type: 1},n_layers=1,n_single_qubit_params=3)\n",
    "\n",
    "# Convert the CCG diagram into a quantum circuit\n",
    "circuit = ansatz(train_diagrams_filter[0])\n",
    "\n",
    "# Now `circuit` is a pytket circuit ready for simulation or running on a quantum computer\n",
    "circuit.draw()\n",
    "'''"
   ]
  },
  {
   "cell_type": "code",
   "execution_count": 67,
   "metadata": {},
   "outputs": [
    {
     "data": {
      "text/plain": [
       "'\\nfrom lambeq.backend.tensor import Dim\\n\\nfrom lambeq import AtomicType, SpiderAnsatz\\n\\nansatz = SpiderAnsatz({AtomicType.NOUN: Dim(2),\\n                       AtomicType.SENTENCE: Dim(2)})\\n\\nremove_cups = RemoveCupsRewriter()\\n\\ntrain_circuits = []\\ntest_circuits =  []\\n\\n\\nfor index, diag in enumerate(train_diagrams_filter):\\n    try:\\n        train_circuits.append(ansatz(remove_cups(diag)))\\n    except Exception as e:\\n        print(\"Problem with Train diagram\",index)\\n        train_labels[index] = None\\n        print(e)\\n\\nfor index,d in enumerate(test_diagrams_filter):\\n    try:\\n        test_circuits.append(ansatz(remove_cups(diag)))\\n    except Exception as e:\\n        print(\"Problem with Test diagram\",index)\\n        test_labels[index] = None\\n        print(e)\\n'"
      ]
     },
     "execution_count": 67,
     "metadata": {},
     "output_type": "execute_result"
    }
   ],
   "source": [
    "# Testing with SpiderAnsatz\n",
    "\n",
    "\"\"\"\n",
    "from lambeq.backend.tensor import Dim\n",
    "\n",
    "from lambeq import AtomicType, SpiderAnsatz\n",
    "\n",
    "ansatz = SpiderAnsatz({AtomicType.NOUN: Dim(2),\n",
    "                       AtomicType.SENTENCE: Dim(2)})\n",
    "\n",
    "remove_cups = RemoveCupsRewriter()\n",
    "\n",
    "train_circuits = []\n",
    "test_circuits =  []\n",
    "\n",
    "\n",
    "for index, diag in enumerate(train_diagrams_filter):\n",
    "    try:\n",
    "        train_circuits.append(ansatz(remove_cups(diag)))\n",
    "    except Exception as e:\n",
    "        print(\"Problem with Train diagram\",index)\n",
    "        train_labels[index] = None\n",
    "        print(e)\n",
    "\n",
    "for index,d in enumerate(test_diagrams_filter):\n",
    "    try:\n",
    "        test_circuits.append(ansatz(remove_cups(diag)))\n",
    "    except Exception as e:\n",
    "        print(\"Problem with Test diagram\",index)\n",
    "        test_labels[index] = None\n",
    "        print(e)\n",
    "\"\"\""
   ]
  },
  {
   "cell_type": "code",
   "execution_count": 122,
   "metadata": {},
   "outputs": [
    {
     "data": {
      "image/png": "[encoded data removed]",
      "text/plain": [
       "<Figure size 3000x600 with 1 Axes>"
      ]
     },
     "metadata": {},
     "output_type": "display_data"
    }
   ],
   "source": [
    "from lambeq.backend import draw_equation\n",
    "\n",
    "original_diagram = train_diagrams[0]\n",
    "removed_cups_diagram = remove_cups(original_diagram)\n",
    "\n",
    "draw_equation(original_diagram, removed_cups_diagram, symbol='-->', figsize=(30, 6), asymmetry=0.3, fontsize=12)"
   ]
  },
  {
   "cell_type": "markdown",
   "metadata": {},
   "source": [
    "## Training"
   ]
  },
  {
   "cell_type": "code",
   "execution_count": 123,
   "metadata": {},
   "outputs": [],
   "source": [
    "sig = torch.sigmoid\n",
    "def accuracy(y_pred, y_true):\n",
    "    y_pred = sig(y_pred)\n",
    "    y_pred = torch.round(y_pred)\n",
    "    return torch.sum(y_pred == y_true).item() / len(y_true)\n",
    "\n",
    "eval_metrics = {\"accuracy\": accuracy}"
   ]
  },
  {
   "cell_type": "code",
   "execution_count": 133,
   "metadata": {},
   "outputs": [],
   "source": [
    "sig = torch.sigmoid\n",
    "\n",
    "def accuracy(y_hat, y):\n",
    "    return torch.sum(torch.eq(torch.round(sig(y_hat)), y))/len(y)/2  # half due to double-counting\n",
    "\n",
    "eval_metrics = {\"acc\": accuracy}"
   ]
  },
  {
   "cell_type": "code",
   "execution_count": 134,
   "metadata": {},
   "outputs": [],
   "source": [
    "BATCH_SIZE = 30\n",
    "EPOCHS = 30\n",
    "LEARNING_RATE = 3e-2\n",
    "SEED = 0\n"
   ]
  },
  {
   "cell_type": "code",
   "execution_count": 132,
   "metadata": {},
   "outputs": [],
   "source": [
    "from lambeq import PytorchModel\n",
    "\n",
    "all_circuits = train_circuits + test_circuits\n",
    "model = PytorchModel.from_diagrams(all_circuits)"
   ]
  },
  {
   "cell_type": "code",
   "execution_count": 138,
   "metadata": {},
   "outputs": [
    {
     "ename": "AttributeError",
     "evalue": "'Symbol' object has no attribute 'size'",
     "output_type": "error",
     "traceback": [
      "\u001b[0;31m---------------------------------------------------------------------------\u001b[0m",
      "\u001b[0;31mAttributeError\u001b[0m                            Traceback (most recent call last)",
      "Cell \u001b[0;32mIn[138], line 3\u001b[0m\n\u001b[1;32m      1\u001b[0m \u001b[38;5;28;01mfrom\u001b[39;00m \u001b[38;5;21;01mlambeq\u001b[39;00m \u001b[38;5;28;01mimport\u001b[39;00m PytorchTrainer\n\u001b[0;32m----> 3\u001b[0m trainer \u001b[38;5;241m=\u001b[39m \u001b[43mPytorchTrainer\u001b[49m\u001b[43m(\u001b[49m\n\u001b[1;32m      4\u001b[0m \u001b[43m        \u001b[49m\u001b[43mmodel\u001b[49m\u001b[38;5;241;43m=\u001b[39;49m\u001b[43mmodel\u001b[49m\u001b[43m,\u001b[49m\n\u001b[1;32m      5\u001b[0m \u001b[43m        \u001b[49m\u001b[43mloss_function\u001b[49m\u001b[38;5;241;43m=\u001b[39;49m\u001b[43mtorch\u001b[49m\u001b[38;5;241;43m.\u001b[39;49m\u001b[43mnn\u001b[49m\u001b[38;5;241;43m.\u001b[39;49m\u001b[43mBCEWithLogitsLoss\u001b[49m\u001b[43m(\u001b[49m\u001b[43m)\u001b[49m\u001b[43m,\u001b[49m\n\u001b[1;32m      6\u001b[0m \u001b[43m        \u001b[49m\u001b[43moptimizer\u001b[49m\u001b[38;5;241;43m=\u001b[39;49m\u001b[43mtorch\u001b[49m\u001b[38;5;241;43m.\u001b[39;49m\u001b[43moptim\u001b[49m\u001b[38;5;241;43m.\u001b[39;49m\u001b[43mAdamW\u001b[49m\u001b[43m,\u001b[49m\n\u001b[1;32m      7\u001b[0m \u001b[43m        \u001b[49m\u001b[43mlearning_rate\u001b[49m\u001b[38;5;241;43m=\u001b[39;49m\u001b[43mLEARNING_RATE\u001b[49m\u001b[43m,\u001b[49m\n\u001b[1;32m      8\u001b[0m \u001b[43m        \u001b[49m\u001b[43mepochs\u001b[49m\u001b[38;5;241;43m=\u001b[39;49m\u001b[43mEPOCHS\u001b[49m\u001b[43m,\u001b[49m\n\u001b[1;32m      9\u001b[0m \u001b[43m        \u001b[49m\u001b[43mevaluate_functions\u001b[49m\u001b[38;5;241;43m=\u001b[39;49m\u001b[43meval_metrics\u001b[49m\u001b[43m)\u001b[49m\n",
      "File \u001b[0;32m/usr/local/lib/python3.11/site-packages/lambeq/training/pytorch_trainer.py:100\u001b[0m, in \u001b[0;36mPytorchTrainer.__init__\u001b[0;34m(self, model, loss_function, epochs, optimizer, learning_rate, device, optimizer_args, evaluate_functions, evaluate_on_train, use_tensorboard, log_dir, from_checkpoint, verbose, seed)\u001b[0m\n\u001b[1;32m     98\u001b[0m     torch\u001b[38;5;241m.\u001b[39mmanual_seed(seed)\n\u001b[1;32m     99\u001b[0m     torch\u001b[38;5;241m.\u001b[39mcuda\u001b[38;5;241m.\u001b[39mmanual_seed_all(seed)\n\u001b[0;32m--> 100\u001b[0m \u001b[38;5;28;43msuper\u001b[39;49m\u001b[43m(\u001b[49m\u001b[43m)\u001b[49m\u001b[38;5;241;43m.\u001b[39;49m\u001b[38;5;21;43m__init__\u001b[39;49m\u001b[43m(\u001b[49m\u001b[43mmodel\u001b[49m\u001b[43m,\u001b[49m\n\u001b[1;32m    101\u001b[0m \u001b[43m                 \u001b[49m\u001b[43mloss_function\u001b[49m\u001b[43m,\u001b[49m\n\u001b[1;32m    102\u001b[0m \u001b[43m                 \u001b[49m\u001b[43mepochs\u001b[49m\u001b[43m,\u001b[49m\n\u001b[1;32m    103\u001b[0m \u001b[43m                 \u001b[49m\u001b[43mevaluate_functions\u001b[49m\u001b[43m,\u001b[49m\n\u001b[1;32m    104\u001b[0m \u001b[43m                 \u001b[49m\u001b[43mevaluate_on_train\u001b[49m\u001b[43m,\u001b[49m\n\u001b[1;32m    105\u001b[0m \u001b[43m                 \u001b[49m\u001b[43muse_tensorboard\u001b[49m\u001b[43m,\u001b[49m\n\u001b[1;32m    106\u001b[0m \u001b[43m                 \u001b[49m\u001b[43mlog_dir\u001b[49m\u001b[43m,\u001b[49m\n\u001b[1;32m    107\u001b[0m \u001b[43m                 \u001b[49m\u001b[43mfrom_checkpoint\u001b[49m\u001b[43m,\u001b[49m\n\u001b[1;32m    108\u001b[0m \u001b[43m                 \u001b[49m\u001b[43mverbose\u001b[49m\u001b[43m,\u001b[49m\n\u001b[1;32m    109\u001b[0m \u001b[43m                 \u001b[49m\u001b[43mseed\u001b[49m\u001b[43m)\u001b[49m\n\u001b[1;32m    111\u001b[0m \u001b[38;5;28mself\u001b[39m\u001b[38;5;241m.\u001b[39mbackend \u001b[38;5;241m=\u001b[39m \u001b[38;5;124m'\u001b[39m\u001b[38;5;124mpytorch\u001b[39m\u001b[38;5;124m'\u001b[39m\n\u001b[1;32m    112\u001b[0m \u001b[38;5;28mself\u001b[39m\u001b[38;5;241m.\u001b[39mdevice \u001b[38;5;241m=\u001b[39m torch\u001b[38;5;241m.\u001b[39mdevice(\u001b[38;5;124m'\u001b[39m\u001b[38;5;124mcpu\u001b[39m\u001b[38;5;124m'\u001b[39m \u001b[38;5;28;01mif\u001b[39;00m device \u001b[38;5;241m<\u001b[39m \u001b[38;5;241m0\u001b[39m \u001b[38;5;28;01melse\u001b[39;00m \u001b[38;5;124mf\u001b[39m\u001b[38;5;124m'\u001b[39m\u001b[38;5;124mcuda:\u001b[39m\u001b[38;5;132;01m{\u001b[39;00mdevice\u001b[38;5;132;01m}\u001b[39;00m\u001b[38;5;124m'\u001b[39m)\n",
      "File \u001b[0;32m/usr/local/lib/python3.11/site-packages/lambeq/training/trainer.py:163\u001b[0m, in \u001b[0;36mTrainer.__init__\u001b[0;34m(self, model, loss_function, epochs, evaluate_functions, evaluate_on_train, use_tensorboard, log_dir, from_checkpoint, verbose, seed)\u001b[0m\n\u001b[1;32m    161\u001b[0m     \u001b[38;5;28mself\u001b[39m\u001b[38;5;241m.\u001b[39mcheckpoint \u001b[38;5;241m=\u001b[39m \u001b[38;5;28mself\u001b[39m\u001b[38;5;241m.\u001b[39mload_training_checkpoint(\u001b[38;5;28mself\u001b[39m\u001b[38;5;241m.\u001b[39mlog_dir)\n\u001b[1;32m    162\u001b[0m \u001b[38;5;28;01melse\u001b[39;00m:\n\u001b[0;32m--> 163\u001b[0m     \u001b[38;5;28;43mself\u001b[39;49m\u001b[38;5;241;43m.\u001b[39;49m\u001b[43mmodel\u001b[49m\u001b[38;5;241;43m.\u001b[39;49m\u001b[43minitialise_weights\u001b[49m\u001b[43m(\u001b[49m\u001b[43m)\u001b[49m\n",
      "File \u001b[0;32m/usr/local/lib/python3.11/site-packages/lambeq/training/pytorch_model.py:75\u001b[0m, in \u001b[0;36mPytorchModel.initialise_weights\u001b[0;34m(self)\u001b[0m\n\u001b[1;32m     72\u001b[0m         correction_factor \u001b[38;5;241m=\u001b[39m \u001b[38;5;241m1\u001b[39m \u001b[38;5;241m/\u001b[39m (\u001b[38;5;241m0.16\u001b[39m \u001b[38;5;241m*\u001b[39m size \u001b[38;5;241m-\u001b[39m \u001b[38;5;241m0.04\u001b[39m)\n\u001b[1;32m     73\u001b[0m     \u001b[38;5;28;01mreturn\u001b[39;00m sqrt(size\u001b[38;5;241m/\u001b[39m\u001b[38;5;241m3\u001b[39m \u001b[38;5;241m-\u001b[39m \u001b[38;5;241m1\u001b[39m\u001b[38;5;241m/\u001b[39m(\u001b[38;5;241m15\u001b[39m \u001b[38;5;241m-\u001b[39m correction_factor))\n\u001b[0;32m---> 75\u001b[0m \u001b[38;5;28mself\u001b[39m\u001b[38;5;241m.\u001b[39mweights \u001b[38;5;241m=\u001b[39m torch\u001b[38;5;241m.\u001b[39mnn\u001b[38;5;241m.\u001b[39mParameterList(\u001b[43m[\u001b[49m\n\u001b[1;32m     76\u001b[0m \u001b[43m    \u001b[49m\u001b[43m(\u001b[49m\u001b[38;5;241;43m2\u001b[39;49m\u001b[43m \u001b[49m\u001b[38;5;241;43m*\u001b[39;49m\u001b[43m \u001b[49m\u001b[43mtorch\u001b[49m\u001b[38;5;241;43m.\u001b[39;49m\u001b[43mrand\u001b[49m\u001b[43m(\u001b[49m\u001b[43mw\u001b[49m\u001b[38;5;241;43m.\u001b[39;49m\u001b[43msize\u001b[49m\u001b[43m)\u001b[49m\u001b[43m \u001b[49m\u001b[38;5;241;43m-\u001b[39;49m\u001b[43m \u001b[49m\u001b[38;5;241;43m1\u001b[39;49m\u001b[43m)\u001b[49m\u001b[43m \u001b[49m\u001b[38;5;241;43m/\u001b[39;49m\u001b[43m \u001b[49m\u001b[43mmean\u001b[49m\u001b[43m(\u001b[49m\u001b[43mw\u001b[49m\u001b[38;5;241;43m.\u001b[39;49m\u001b[43mdirected_cod\u001b[49m\u001b[43m)\u001b[49m\n\u001b[1;32m     77\u001b[0m \u001b[43m    \u001b[49m\u001b[38;5;28;43;01mfor\u001b[39;49;00m\u001b[43m \u001b[49m\u001b[43mw\u001b[49m\u001b[43m \u001b[49m\u001b[38;5;129;43;01min\u001b[39;49;00m\u001b[43m \u001b[49m\u001b[38;5;28;43mself\u001b[39;49m\u001b[38;5;241;43m.\u001b[39;49m\u001b[43msymbols\u001b[49m\n\u001b[1;32m     78\u001b[0m \u001b[43m\u001b[49m\u001b[43m]\u001b[49m)\n",
      "File \u001b[0;32m/usr/local/lib/python3.11/site-packages/lambeq/training/pytorch_model.py:76\u001b[0m, in \u001b[0;36m<listcomp>\u001b[0;34m(.0)\u001b[0m\n\u001b[1;32m     72\u001b[0m         correction_factor \u001b[38;5;241m=\u001b[39m \u001b[38;5;241m1\u001b[39m \u001b[38;5;241m/\u001b[39m (\u001b[38;5;241m0.16\u001b[39m \u001b[38;5;241m*\u001b[39m size \u001b[38;5;241m-\u001b[39m \u001b[38;5;241m0.04\u001b[39m)\n\u001b[1;32m     73\u001b[0m     \u001b[38;5;28;01mreturn\u001b[39;00m sqrt(size\u001b[38;5;241m/\u001b[39m\u001b[38;5;241m3\u001b[39m \u001b[38;5;241m-\u001b[39m \u001b[38;5;241m1\u001b[39m\u001b[38;5;241m/\u001b[39m(\u001b[38;5;241m15\u001b[39m \u001b[38;5;241m-\u001b[39m correction_factor))\n\u001b[1;32m     75\u001b[0m \u001b[38;5;28mself\u001b[39m\u001b[38;5;241m.\u001b[39mweights \u001b[38;5;241m=\u001b[39m torch\u001b[38;5;241m.\u001b[39mnn\u001b[38;5;241m.\u001b[39mParameterList([\n\u001b[0;32m---> 76\u001b[0m     (\u001b[38;5;241m2\u001b[39m \u001b[38;5;241m*\u001b[39m torch\u001b[38;5;241m.\u001b[39mrand(\u001b[43mw\u001b[49m\u001b[38;5;241;43m.\u001b[39;49m\u001b[43msize\u001b[49m) \u001b[38;5;241m-\u001b[39m \u001b[38;5;241m1\u001b[39m) \u001b[38;5;241m/\u001b[39m mean(w\u001b[38;5;241m.\u001b[39mdirected_cod)\n\u001b[1;32m     77\u001b[0m     \u001b[38;5;28;01mfor\u001b[39;00m w \u001b[38;5;129;01min\u001b[39;00m \u001b[38;5;28mself\u001b[39m\u001b[38;5;241m.\u001b[39msymbols\n\u001b[1;32m     78\u001b[0m ])\n",
      "\u001b[0;31mAttributeError\u001b[0m: 'Symbol' object has no attribute 'size'"
     ]
    }
   ],
   "source": [
    "from lambeq import PytorchTrainer\n",
    "\n",
    "trainer = PytorchTrainer(\n",
    "        model=model,\n",
    "        loss_function=torch.nn.BCEWithLogitsLoss(),\n",
    "        optimizer=torch.optim.AdamW,\n",
    "        learning_rate=LEARNING_RATE,\n",
    "        epochs=EPOCHS,\n",
    "        evaluate_functions=eval_metrics,\n",
    "        evaluate_on_train=True,\n",
    "        verbose='text')"
   ]
  },
  {
   "cell_type": "code",
   "execution_count": null,
   "metadata": {},
   "outputs": [],
   "source": []
  }
 ],
 "metadata": {
  "kernelspec": {
   "display_name": "Python 3",
   "language": "python",
   "name": "python3"
  },
  "language_info": {
   "codemirror_mode": {
    "name": "ipython",
    "version": 3
   },
   "file_extension": ".py",
   "mimetype": "text/x-python",
   "name": "python",
   "nbconvert_exporter": "python",
   "pygments_lexer": "ipython3",
   "version": "3.11.3"
  }
 },
 "nbformat": 4,
 "nbformat_minor": 2
}
