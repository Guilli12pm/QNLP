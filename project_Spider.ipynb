{
 "cells": [
  {
   "cell_type": "code",
   "execution_count": 189,
   "metadata": {},
   "outputs": [],
   "source": [
    "from lambeq import BobcatParser, SpacyTokeniser\n",
    "import torch, numpy, pandas as pd, re"
   ]
  },
  {
   "cell_type": "code",
   "execution_count": 190,
   "metadata": {},
   "outputs": [],
   "source": [
    "def create_list(num,maxi):\n",
    "    lst = [0] * maxi\n",
    "    lst[num] = 1\n",
    "    return lst"
   ]
  },
  {
   "cell_type": "markdown",
   "metadata": {},
   "source": [
    "Let us read the files with the sentences, clean them and put the sentences into a new files."
   ]
  },
  {
   "cell_type": "code",
   "execution_count": 191,
   "metadata": {},
   "outputs": [],
   "source": [
    "def clean_text(text):\n",
    "    \"\"\"\n",
    "    Cleaning a document with:\n",
    "        - Lowercase        \n",
    "        - Removing numbers with regular expressions\n",
    "        - Removing punctuation with regular expressions\n",
    "        - Removing other artifacts\n",
    "    And separate the document into words by simply splitting at spaces\n",
    "    Params:\n",
    "        text (string): a sentence or a document\n",
    "    Returns:\n",
    "        tokens (list of strings): the list of tokens (word units) forming the document\n",
    "    \"\"\"        \n",
    "    # Lowercase\n",
    "    text = text.lower()\n",
    "    # Remove numbers\n",
    "    text = re.sub(r\"[0-9]+\", \"\", text)\n",
    "    # Remove punctuation\n",
    "    REMOVE_PUNCT = re.compile(\"[.;:!\\'?,\\\"()\\[\\]]\")\n",
    "    text = REMOVE_PUNCT.sub(\"\", text)\n",
    "    # Remove small words (1 and 2 characters)\n",
    "    text = re.sub(r\"\\b\\w{1}\\b\", \"\", text)\n",
    "    # Remove HTML artifacts specific to the corpus we're going to work with\n",
    "    REPLACE_HTML = re.compile(\"(<br\\s*/><br\\s*/>)|(\\-)|(\\/)\")\n",
    "    text = REPLACE_HTML.sub(\" \", text)\n",
    "\n",
    "    text =  ' '.join(text.split())\n",
    "    #print(text)\n",
    "    return text"
   ]
  },
  {
   "cell_type": "code",
   "execution_count": 192,
   "metadata": {},
   "outputs": [],
   "source": [
    "def process_csv_lines(input_file_path, output_file_path):\n",
    "    \"\"\"\n",
    "    Reads a CSV file, processes each line to remove all commas except the last one,\n",
    "    and writes the processed lines to a new file.\n",
    "    \"\"\"\n",
    "    with open(input_file_path, 'r', encoding='utf-8') as input_file, open(output_file_path, 'w', encoding='utf-8') as output_file:\n",
    "        for line in input_file:\n",
    "            if ',' in line:\n",
    "                parts = line.rsplit(',', 1)  # Split from the right at the last comma\n",
    "                new_line = parts[0].replace(',', '') # Remove all commas from the first part\n",
    "            else:\n",
    "                new_line = line  # If no comma is present, leave the line unchanged\n",
    "            \n",
    "            output_file.write(clean_text(new_line)+ ',' + parts[1])\n",
    "\n"
   ]
  },
  {
   "cell_type": "code",
   "execution_count": 193,
   "metadata": {},
   "outputs": [],
   "source": [
    "# Process Train dataset \n",
    "input_file = \"dataset_dim4/train_dataset.csv\"\n",
    "output_file = \"dataset_dim4/train_clean_data.csv\"\n",
    "process_csv_lines(input_file,output_file)"
   ]
  },
  {
   "cell_type": "code",
   "execution_count": 194,
   "metadata": {},
   "outputs": [],
   "source": [
    "# Process Test dataset\n",
    "input_file = \"dataset_dim4/test_dataset.csv\"\n",
    "output_file = \"dataset_dim4/test_clean_data.csv\"\n",
    "process_csv_lines(input_file,output_file)"
   ]
  },
  {
   "cell_type": "code",
   "execution_count": 195,
   "metadata": {},
   "outputs": [],
   "source": [
    "column_names = [\"text\", \"label\"]\n",
    "train_dataset = pd.read_csv(\"dataset_dim4/train_clean_data.csv\", names=column_names).sample(frac = 1, )\n",
    "test_dataset = pd.read_csv(\"dataset_dim4/test_clean_data.csv\", names=column_names).sample(frac = 1)"
   ]
  },
  {
   "cell_type": "code",
   "execution_count": 196,
   "metadata": {},
   "outputs": [
    {
     "data": {
      "text/html": [
       "<div>\n",
       "<style scoped>\n",
       "    .dataframe tbody tr th:only-of-type {\n",
       "        vertical-align: middle;\n",
       "    }\n",
       "\n",
       "    .dataframe tbody tr th {\n",
       "        vertical-align: top;\n",
       "    }\n",
       "\n",
       "    .dataframe thead th {\n",
       "        text-align: right;\n",
       "    }\n",
       "</style>\n",
       "<table border=\"1\" class=\"dataframe\">\n",
       "  <thead>\n",
       "    <tr style=\"text-align: right;\">\n",
       "      <th></th>\n",
       "      <th>text</th>\n",
       "      <th>label</th>\n",
       "    </tr>\n",
       "  </thead>\n",
       "  <tbody>\n",
       "    <tr>\n",
       "      <th>116</th>\n",
       "      <td>the library is closed on sundays</td>\n",
       "      <td>2</td>\n",
       "    </tr>\n",
       "    <tr>\n",
       "      <th>92</th>\n",
       "      <td>robust security system though complex to navigate</td>\n",
       "      <td>3</td>\n",
       "    </tr>\n",
       "    <tr>\n",
       "      <th>43</th>\n",
       "      <td>received what expected</td>\n",
       "      <td>2</td>\n",
       "    </tr>\n",
       "    <tr>\n",
       "      <th>125</th>\n",
       "      <td>disappointed by the lack of features that were...</td>\n",
       "      <td>1</td>\n",
       "    </tr>\n",
       "    <tr>\n",
       "      <th>138</th>\n",
       "      <td>the app offers many features but consumes too ...</td>\n",
       "      <td>3</td>\n",
       "    </tr>\n",
       "    <tr>\n",
       "      <th>49</th>\n",
       "      <td>the book was okay not great</td>\n",
       "      <td>2</td>\n",
       "    </tr>\n",
       "    <tr>\n",
       "      <th>134</th>\n",
       "      <td>the products innovative design is impressive b...</td>\n",
       "      <td>3</td>\n",
       "    </tr>\n",
       "    <tr>\n",
       "      <th>56</th>\n",
       "      <td>an ordinary experience but pleasant</td>\n",
       "      <td>2</td>\n",
       "    </tr>\n",
       "    <tr>\n",
       "      <th>130</th>\n",
       "      <td>the dessert looked enticing but its taste was ...</td>\n",
       "      <td>3</td>\n",
       "    </tr>\n",
       "    <tr>\n",
       "      <th>6</th>\n",
       "      <td>truly delightful experience from start to finish</td>\n",
       "      <td>0</td>\n",
       "    </tr>\n",
       "  </tbody>\n",
       "</table>\n",
       "</div>"
      ],
      "text/plain": [
       "                                                  text  label\n",
       "116                   the library is closed on sundays      2\n",
       "92   robust security system though complex to navigate      3\n",
       "43                              received what expected      2\n",
       "125  disappointed by the lack of features that were...      1\n",
       "138  the app offers many features but consumes too ...      3\n",
       "49                         the book was okay not great      2\n",
       "134  the products innovative design is impressive b...      3\n",
       "56                 an ordinary experience but pleasant      2\n",
       "130  the dessert looked enticing but its taste was ...      3\n",
       "6     truly delightful experience from start to finish      0"
      ]
     },
     "execution_count": 196,
     "metadata": {},
     "output_type": "execute_result"
    }
   ],
   "source": [
    "train_dataset[:10]"
   ]
  },
  {
   "cell_type": "code",
   "execution_count": 197,
   "metadata": {},
   "outputs": [
    {
     "data": {
      "text/html": [
       "<div>\n",
       "<style scoped>\n",
       "    .dataframe tbody tr th:only-of-type {\n",
       "        vertical-align: middle;\n",
       "    }\n",
       "\n",
       "    .dataframe tbody tr th {\n",
       "        vertical-align: top;\n",
       "    }\n",
       "\n",
       "    .dataframe thead th {\n",
       "        text-align: right;\n",
       "    }\n",
       "</style>\n",
       "<table border=\"1\" class=\"dataframe\">\n",
       "  <thead>\n",
       "    <tr style=\"text-align: right;\">\n",
       "      <th></th>\n",
       "      <th>text</th>\n",
       "      <th>label</th>\n",
       "    </tr>\n",
       "  </thead>\n",
       "  <tbody>\n",
       "    <tr>\n",
       "      <th>23</th>\n",
       "      <td>the quality of the craftsmanship is evident in...</td>\n",
       "      <td>0</td>\n",
       "    </tr>\n",
       "    <tr>\n",
       "      <th>25</th>\n",
       "      <td>the softwares intuitive design made it breeze ...</td>\n",
       "      <td>0</td>\n",
       "    </tr>\n",
       "    <tr>\n",
       "      <th>19</th>\n",
       "      <td>the application process is unnecessarily compl...</td>\n",
       "      <td>1</td>\n",
       "    </tr>\n",
       "    <tr>\n",
       "      <th>20</th>\n",
       "      <td>the workshop exceeded all my expectations with...</td>\n",
       "      <td>0</td>\n",
       "    </tr>\n",
       "    <tr>\n",
       "      <th>9</th>\n",
       "      <td>her presentation covers the basics of financia...</td>\n",
       "      <td>2</td>\n",
       "    </tr>\n",
       "    <tr>\n",
       "      <th>21</th>\n",
       "      <td>his performance was breathtaking capturing the...</td>\n",
       "      <td>0</td>\n",
       "    </tr>\n",
       "    <tr>\n",
       "      <th>2</th>\n",
       "      <td>the meeting is scheduled for pm tomorrow</td>\n",
       "      <td>2</td>\n",
       "    </tr>\n",
       "    <tr>\n",
       "      <th>3</th>\n",
       "      <td>the software requires mb of ram to run</td>\n",
       "      <td>2</td>\n",
       "    </tr>\n",
       "    <tr>\n",
       "      <th>17</th>\n",
       "      <td>the presentation was disorganized lacking clea...</td>\n",
       "      <td>1</td>\n",
       "    </tr>\n",
       "    <tr>\n",
       "      <th>16</th>\n",
       "      <td>service charges were not mentioned upfront lea...</td>\n",
       "      <td>1</td>\n",
       "    </tr>\n",
       "  </tbody>\n",
       "</table>\n",
       "</div>"
      ],
      "text/plain": [
       "                                                 text  label\n",
       "23  the quality of the craftsmanship is evident in...      0\n",
       "25  the softwares intuitive design made it breeze ...      0\n",
       "19  the application process is unnecessarily compl...      1\n",
       "20  the workshop exceeded all my expectations with...      0\n",
       "9   her presentation covers the basics of financia...      2\n",
       "21  his performance was breathtaking capturing the...      0\n",
       "2            the meeting is scheduled for pm tomorrow      2\n",
       "3              the software requires mb of ram to run      2\n",
       "17  the presentation was disorganized lacking clea...      1\n",
       "16  service charges were not mentioned upfront lea...      1"
      ]
     },
     "execution_count": 197,
     "metadata": {},
     "output_type": "execute_result"
    }
   ],
   "source": [
    "test_dataset[:10]"
   ]
  },
  {
   "cell_type": "code",
   "execution_count": 198,
   "metadata": {},
   "outputs": [],
   "source": [
    "from lambeq import SpacyTokeniser\n",
    "\n",
    "tokeniser = SpacyTokeniser()\n",
    "\n",
    "train_data = [tokeniser.tokenise_sentence(sent) for sent in train_dataset.iloc[:, 0].to_list()]\n",
    "train_labels = [create_list(ele,4) for ele in train_dataset.iloc[:, 1].to_list()]\n",
    "test_data = [tokeniser.tokenise_sentence(sent) for sent in test_dataset.iloc[:, 0].to_list()]\n",
    "test_labels = [create_list(ele,4) for ele in test_dataset.iloc[:, 1].to_list()]\n",
    "\n",
    "#train_labels = [[1-x, x] for x in train_dataset.iloc[:, 1].to_list()]\n",
    "#test_labels = [[1-x, x] for x in test_dataset.iloc[:, 1].to_list()]"
   ]
  },
  {
   "cell_type": "markdown",
   "metadata": {},
   "source": [
    "## Text 2 Diagram"
   ]
  },
  {
   "cell_type": "code",
   "execution_count": 199,
   "metadata": {},
   "outputs": [
    {
     "data": {
      "application/vnd.jupyter.widget-view+json": {
       "model_id": "1bed90bcd2e34cbdb9d3aabce05bbe0e",
       "version_major": 2,
       "version_minor": 0
      },
      "text/plain": [
       "Tagging sentences:   0%|          | 0/35 [00:00<?, ?it/s]"
      ]
     },
     "metadata": {},
     "output_type": "display_data"
    },
    {
     "data": {
      "application/vnd.jupyter.widget-view+json": {
       "model_id": "079b7eda973d43e8a76b30a43992b64e",
       "version_major": 2,
       "version_minor": 0
      },
      "text/plain": [
       "Parsing tagged sentences:   0%|          | 0/140 [00:00<?, ?it/s]"
      ]
     },
     "metadata": {},
     "output_type": "display_data"
    },
    {
     "data": {
      "application/vnd.jupyter.widget-view+json": {
       "model_id": "6ab041ee4be24959b9148a8df52d0fd1",
       "version_major": 2,
       "version_minor": 0
      },
      "text/plain": [
       "Parse trees to diagrams:   0%|          | 0/140 [00:00<?, ?it/s]"
      ]
     },
     "metadata": {},
     "output_type": "display_data"
    },
    {
     "data": {
      "application/vnd.jupyter.widget-view+json": {
       "model_id": "7aebf02593b841e5884f075256a068a3",
       "version_major": 2,
       "version_minor": 0
      },
      "text/plain": [
       "Tagging sentences:   0%|          | 0/10 [00:00<?, ?it/s]"
      ]
     },
     "metadata": {},
     "output_type": "display_data"
    },
    {
     "data": {
      "application/vnd.jupyter.widget-view+json": {
       "model_id": "d9674e76252948e3b9fb614b3c5d2eee",
       "version_major": 2,
       "version_minor": 0
      },
      "text/plain": [
       "Parsing tagged sentences:   0%|          | 0/40 [00:00<?, ?it/s]"
      ]
     },
     "metadata": {},
     "output_type": "display_data"
    },
    {
     "data": {
      "application/vnd.jupyter.widget-view+json": {
       "model_id": "b0ddf3f11bfa498496a23d6e0ea0bab7",
       "version_major": 2,
       "version_minor": 0
      },
      "text/plain": [
       "Parse trees to diagrams:   0%|          | 0/40 [00:00<?, ?it/s]"
      ]
     },
     "metadata": {},
     "output_type": "display_data"
    }
   ],
   "source": [
    "parser = BobcatParser(root_cats=('NP', 'N'))\n",
    "train_diagrams = parser.sentences2diagrams(train_data, suppress_exceptions=True, tokenised=True)\n",
    "test_diagrams = parser.sentences2diagrams(test_data, suppress_exceptions=True, tokenised=True)"
   ]
  },
  {
   "cell_type": "code",
   "execution_count": 200,
   "metadata": {},
   "outputs": [
    {
     "name": "stdout",
     "output_type": "stream",
     "text": [
      "Number of Train diagrams 140 and labels 140 match? -> True\n",
      "Number of Test diagrams 40 and labels 40 match? -> True\n"
     ]
    }
   ],
   "source": [
    "print(\"Number of Train diagrams\", len(train_diagrams), \"and labels\", len(train_labels), \"match? ->\", len(train_diagrams) == len(train_labels))\n",
    "print(\"Number of Test diagrams\", len(test_diagrams), \"and labels\", len(test_labels), \"match? ->\", len(test_diagrams) == len(test_labels))"
   ]
  },
  {
   "cell_type": "code",
   "execution_count": 201,
   "metadata": {},
   "outputs": [],
   "source": [
    "train_diagrams_filter = []\n",
    "\n",
    "for index,diagram in enumerate(train_diagrams):\n",
    "    if diagram is not None:\n",
    "        train_diagrams_filter.append(diagram.normal_form())\n",
    "    else:\n",
    "        train_labels[index] = None\n",
    "        \n",
    "test_diagrams_filter = []\n",
    "\n",
    "for index,diagram in enumerate(test_diagrams):\n",
    "    if diagram is not None:\n",
    "        test_diagrams_filter.append(diagram.normal_form())\n",
    "    else:\n",
    "        test_labels[index] = None"
   ]
  },
  {
   "cell_type": "code",
   "execution_count": 202,
   "metadata": {},
   "outputs": [],
   "source": [
    "def remove_none(ll):\n",
    "    return [x for x in ll if x is not None]\n",
    "\n",
    "train_labels = remove_none(train_labels)\n",
    "test_labels = remove_none(test_labels)"
   ]
  },
  {
   "cell_type": "code",
   "execution_count": 203,
   "metadata": {},
   "outputs": [
    {
     "name": "stdout",
     "output_type": "stream",
     "text": [
      "Number of Train diagrams 122 and labels 122 match? -> True\n",
      "Number of Test diagrams 33 and labels 33 match? -> True\n"
     ]
    }
   ],
   "source": [
    "print(\"Number of Train diagrams\", len(train_diagrams_filter), \"and labels\", len(train_labels), \"match? ->\", len(train_diagrams_filter) == len(train_labels))\n",
    "print(\"Number of Test diagrams\", len(test_diagrams_filter), \"and labels\", len(test_labels), \"match? ->\", len(test_diagrams_filter) == len(test_labels))"
   ]
  },
  {
   "cell_type": "markdown",
   "metadata": {},
   "source": [
    "View the diagram of a sentence to make sure taht everything is working fine"
   ]
  },
  {
   "cell_type": "code",
   "execution_count": 204,
   "metadata": {},
   "outputs": [
    {
     "data": {
      "image/png": "[encoded data removed]",
      "text/plain": [
       "<Figure size 900x500 with 1 Axes>"
      ]
     },
     "metadata": {},
     "output_type": "display_data"
    }
   ],
   "source": [
    "train_diagrams_filter[11].normal_form().draw(figsize=(9, 5), fontsize=12)"
   ]
  },
  {
   "cell_type": "markdown",
   "metadata": {},
   "source": [
    "## Diagram 2 Circuit"
   ]
  },
  {
   "cell_type": "code",
   "execution_count": 205,
   "metadata": {},
   "outputs": [],
   "source": [
    "from lambeq import AtomicType, IQPAnsatz, SpiderAnsatz\n",
    "from lambeq.backend.tensor import Dim\n",
    "\n",
    "# Define types for the ansatz\n",
    "noun = AtomicType.NOUN\n",
    "sentence_type = AtomicType.SENTENCE\n",
    "prep = AtomicType.PREPOSITIONAL_PHRASE\n",
    "\n",
    "# Create an ansatz (IQPAnsatz in this example)\n",
    "ansatz = SpiderAnsatz({prep:Dim(4), noun: Dim(4), sentence_type: Dim(4)})\n",
    "\n",
    "train_circuits = []\n",
    "test_circuits =  []\n",
    "\n",
    "for index, diag in enumerate(train_diagrams_filter):\n",
    "    try:\n",
    "        train_circuits.append(ansatz(diag))\n",
    "    except Exception as e:\n",
    "        print(\"Problem with Train diagram\",index, \"-> sentence is:\", train_dataset.iloc[index,0])\n",
    "        train_labels[index] = None\n",
    "        print(e)\n",
    "\n",
    "for index,diag in enumerate(test_diagrams_filter):\n",
    "    try:\n",
    "        test_circuits.append(ansatz(diag))\n",
    "    except Exception as e:\n",
    "        print(\"Problem with Test diagram\",index, \"-> sentence is:\", test_dataset.iloc[index,0])\n",
    "        test_labels[index] = None\n",
    "        #print(e)\n",
    "\n",
    "\n",
    "\n",
    "#train_circuits[0].draw(figsize=(9, 10))"
   ]
  },
  {
   "cell_type": "code",
   "execution_count": 206,
   "metadata": {},
   "outputs": [
    {
     "data": {
      "image/png": "[encoded data removed]",
      "text/plain": [
       "<Figure size 900x300 with 1 Axes>"
      ]
     },
     "metadata": {},
     "output_type": "display_data"
    }
   ],
   "source": [
    "train_circuits[0].draw(figsize=(9, 3))"
   ]
  },
  {
   "cell_type": "code",
   "execution_count": 207,
   "metadata": {},
   "outputs": [],
   "source": [
    "train_labels = remove_none(train_labels)\n",
    "test_labels = remove_none(test_labels)"
   ]
  },
  {
   "cell_type": "code",
   "execution_count": 208,
   "metadata": {},
   "outputs": [
    {
     "name": "stdout",
     "output_type": "stream",
     "text": [
      "Number of Train circuits 122 and labels 122 match? -> True\n",
      "Number of Test circuits 33 and labels 33 match? -> True\n"
     ]
    }
   ],
   "source": [
    "print(\"Number of Train circuits\", len(train_circuits), \"and labels\", len(train_labels), \"match? ->\", len(train_circuits) == len(train_labels))\n",
    "print(\"Number of Test circuits\", len(test_circuits), \"and labels\", len(test_labels), \"match? ->\", len(test_circuits) == len(test_labels))"
   ]
  },
  {
   "cell_type": "code",
   "execution_count": 209,
   "metadata": {},
   "outputs": [
    {
     "data": {
      "text/plain": [
       "'\\ntrain_diagrams_filter[7].draw(figsize=(9, 1.5))\\ntrain_diagrams_filter[43].draw()\\ntrain_diagrams_filter[51].draw()\\n'"
      ]
     },
     "execution_count": 209,
     "metadata": {},
     "output_type": "execute_result"
    }
   ],
   "source": [
    "\"\"\"\n",
    "train_diagrams_filter[7].draw(figsize=(9, 1.5))\n",
    "train_diagrams_filter[43].draw()\n",
    "train_diagrams_filter[51].draw()\n",
    "\"\"\""
   ]
  },
  {
   "cell_type": "code",
   "execution_count": 210,
   "metadata": {},
   "outputs": [
    {
     "data": {
      "image/png": "[encoded data removed]",
      "text/plain": [
       "<Figure size 900x500 with 1 Axes>"
      ]
     },
     "metadata": {},
     "output_type": "display_data"
    }
   ],
   "source": [
    "train_circuits[5].draw(figsize=(9, 5), fontsize=12)"
   ]
  },
  {
   "cell_type": "markdown",
   "metadata": {},
   "source": [
    "## Training"
   ]
  },
  {
   "cell_type": "code",
   "execution_count": 215,
   "metadata": {},
   "outputs": [],
   "source": [
    "import numpy as np\n",
    "\n",
    "acc = lambda y_hat, y: np.sum(np.round(y_hat.detach().numpy()) == y) / len(y)/2\n",
    "\n",
    "eval_metrics = {\"acc\": acc}"
   ]
  },
  {
   "cell_type": "code",
   "execution_count": 216,
   "metadata": {},
   "outputs": [],
   "source": [
    "BATCH_SIZE = 30\n",
    "EPOCHS = 30\n",
    "LEARNING_RATE = 0.03\n"
   ]
  },
  {
   "cell_type": "code",
   "execution_count": 217,
   "metadata": {},
   "outputs": [],
   "source": [
    "from lambeq import PytorchModel\n",
    "\n",
    "all_circuits = train_circuits + test_circuits\n",
    "model = PytorchModel.from_diagrams(all_circuits)"
   ]
  },
  {
   "cell_type": "code",
   "execution_count": 218,
   "metadata": {},
   "outputs": [],
   "source": [
    "from lambeq import PytorchTrainer, SPSAOptimizer\n",
    "from lambeq import BinaryCrossEntropyLoss\n",
    "\n",
    "bce = BinaryCrossEntropyLoss()\n",
    "\n",
    "trainer = PytorchTrainer(\n",
    "        model=model,\n",
    "        loss_function=torch.nn.BCEWithLogitsLoss(),\n",
    "        optimizer=torch.optim.AdamW,\n",
    "        epochs=EPOCHS,\n",
    "        learning_rate=LEARNING_RATE,\n",
    "        evaluate_functions=eval_metrics,\n",
    "        evaluate_on_train=True,\n",
    "        verbose='text')"
   ]
  },
  {
   "cell_type": "code",
   "execution_count": 219,
   "metadata": {},
   "outputs": [],
   "source": [
    "from lambeq import Dataset\n",
    "\n",
    "new_train_dataset = Dataset(train_circuits, train_labels, batch_size=BATCH_SIZE)\n",
    "\n",
    "new_test_dataset = Dataset(test_circuits, test_labels, shuffle=False)"
   ]
  },
  {
   "cell_type": "code",
   "execution_count": 220,
   "metadata": {},
   "outputs": [
    {
     "name": "stderr",
     "output_type": "stream",
     "text": [
      "Epoch 5:   train/loss: 0.5135   valid/loss: 0.7097   train/acc: 0.0000   valid/acc: 0.0000\n",
      "Epoch 10:  train/loss: 0.0995   valid/loss: 1.2858   train/acc: 0.0000   valid/acc: 0.0000\n",
      "Epoch 15:  train/loss: 0.0000   valid/loss: 2.1518   train/acc: 0.0000   valid/acc: 0.0000\n",
      "Epoch 20:  train/loss: 0.0001   valid/loss: 2.8178   train/acc: 0.0000   valid/acc: 0.0000\n",
      "Epoch 25:  train/loss: 0.0000   valid/loss: 3.5119   train/acc: 0.0000   valid/acc: 0.0000\n",
      "Epoch 30:  train/loss: 0.0000   valid/loss: 2.6283   train/acc: 0.0000   valid/acc: 0.0000\n",
      "\n",
      "Training completed!\n"
     ]
    }
   ],
   "source": [
    "trainer.fit(new_train_dataset, new_test_dataset, eval_interval=1, log_interval=5)"
   ]
  },
  {
   "cell_type": "markdown",
   "metadata": {},
   "source": []
  },
  {
   "cell_type": "code",
   "execution_count": 159,
   "metadata": {},
   "outputs": [
    {
     "name": "stdout",
     "output_type": "stream",
     "text": [
      "0.8181818181818182\n"
     ]
    }
   ],
   "source": [
    "print(acc(model(test_circuits), test_labels))"
   ]
  },
  {
   "cell_type": "code",
   "execution_count": 160,
   "metadata": {},
   "outputs": [
    {
     "name": "stdout",
     "output_type": "stream",
     "text": [
      "Test accuracy: 0.0\n"
     ]
    },
    {
     "data": {
      "image/png": "[encoded data removed]",
      "text/plain": [
       "<Figure size 1000x600 with 4 Axes>"
      ]
     },
     "metadata": {},
     "output_type": "display_data"
    }
   ],
   "source": [
    "import matplotlib.pyplot as plt\n",
    "import numpy as np\n",
    "\n",
    "fig1, ((ax_tl, ax_tr), (ax_bl, ax_br)) = plt.subplots(2, 2, sharey='row', figsize=(10, 6))\n",
    "\n",
    "ax_tl.set_title('Training set')\n",
    "ax_tr.set_title('Development set')\n",
    "ax_bl.set_xlabel('Epochs')\n",
    "ax_br.set_xlabel('Epochs')\n",
    "ax_bl.set_ylabel('Accuracy')\n",
    "ax_tl.set_ylabel('Loss')\n",
    "\n",
    "colours = iter(plt.rcParams['axes.prop_cycle'].by_key()['color'])\n",
    "range_ = np.arange(1, trainer.epochs+1)\n",
    "ax_tl.plot(range_, trainer.train_epoch_costs, color=next(colours))\n",
    "ax_bl.plot(range_, trainer.train_eval_results['acc'], color=next(colours))\n",
    "ax_tr.plot(range_, trainer.val_costs, color=next(colours))\n",
    "ax_br.plot(range_, trainer.val_eval_results['acc'], color=next(colours))\n",
    "\n",
    "# print test accuracy\n",
    "test_acc = acc(model(test_circuits), torch.tensor(test_labels))\n",
    "print('Test accuracy:', test_acc.item())"
   ]
  },
  {
   "cell_type": "code",
   "execution_count": null,
   "metadata": {},
   "outputs": [],
   "source": []
  }
 ],
 "metadata": {
  "kernelspec": {
   "display_name": "Python 3",
   "language": "python",
   "name": "python3"
  },
  "language_info": {
   "codemirror_mode": {
    "name": "ipython",
    "version": 3
   },
   "file_extension": ".py",
   "mimetype": "text/x-python",
   "name": "python",
   "nbconvert_exporter": "python",
   "pygments_lexer": "ipython3",
   "version": "3.11.3"
  }
 },
 "nbformat": 4,
 "nbformat_minor": 2
}
